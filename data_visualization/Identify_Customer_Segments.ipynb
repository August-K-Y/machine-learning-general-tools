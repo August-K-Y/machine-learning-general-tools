{
 "cells": [
  {
   "cell_type": "markdown",
   "metadata": {},
   "source": [
    "# Project: Identify Customer Segments\n",
    "\n",
    "In this project, you will apply unsupervised learning techniques to identify segments of the population that form the core customer base for a mail-order sales company in Germany. These segments can then be used to direct marketing campaigns towards audiences that will have the highest expected rate of returns. The data that you will use has been provided by our partners at Bertelsmann Arvato Analytics, and represents a real-life data science task.\n",
    "\n",
    "This notebook will help you complete this task by providing a framework within which you will perform your analysis steps. In each step of the project, you will see some text describing the subtask that you will perform, followed by one or more code cells for you to complete your work. **Feel free to add additional code and markdown cells as you go along so that you can explore everything in precise chunks.** The code cells provided in the base template will outline only the major tasks, and will usually not be enough to cover all of the minor tasks that comprise it.\n",
    "\n",
    "It should be noted that while there will be precise guidelines on how you should handle certain tasks in the project, there will also be places where an exact specification is not provided. **There will be times in the project where you will need to make and justify your own decisions on how to treat the data.** These are places where there may not be only one way to handle the data. In real-life tasks, there may be many valid ways to approach an analysis task. One of the most important things you can do is clearly document your approach so that other scientists can understand the decisions you've made.\n",
    "\n",
    "At the end of most sections, there will be a Markdown cell labeled **Discussion**. In these cells, you will report your findings for the completed section, as well as document the decisions that you made in your approach to each subtask. **Your project will be evaluated not just on the code used to complete the tasks outlined, but also your communication about your observations and conclusions at each stage.**"
   ]
  },
  {
   "cell_type": "code",
   "execution_count": 2,
   "metadata": {},
   "outputs": [
    {
     "name": "stderr",
     "output_type": "stream",
     "text": [
      "/Users/yankang/anaconda/envs/opencv/lib/python3.6/importlib/_bootstrap.py:219: RuntimeWarning: numpy.dtype size changed, may indicate binary incompatibility. Expected 96, got 88\n",
      "  return f(*args, **kwds)\n",
      "/Users/yankang/anaconda/envs/opencv/lib/python3.6/importlib/_bootstrap.py:219: RuntimeWarning: numpy.dtype size changed, may indicate binary incompatibility. Expected 96, got 88\n",
      "  return f(*args, **kwds)\n",
      "/Users/yankang/anaconda/envs/opencv/lib/python3.6/importlib/_bootstrap.py:219: RuntimeWarning: numpy.dtype size changed, may indicate binary incompatibility. Expected 96, got 88\n",
      "  return f(*args, **kwds)\n",
      "/Users/yankang/anaconda/envs/opencv/lib/python3.6/importlib/_bootstrap.py:219: RuntimeWarning: numpy.dtype size changed, may indicate binary incompatibility. Expected 96, got 88\n",
      "  return f(*args, **kwds)\n",
      "/Users/yankang/anaconda/envs/opencv/lib/python3.6/importlib/_bootstrap.py:219: RuntimeWarning: numpy.dtype size changed, may indicate binary incompatibility. Expected 96, got 88\n",
      "  return f(*args, **kwds)\n",
      "/Users/yankang/anaconda/envs/opencv/lib/python3.6/importlib/_bootstrap.py:219: RuntimeWarning: numpy.dtype size changed, may indicate binary incompatibility. Expected 96, got 88\n",
      "  return f(*args, **kwds)\n"
     ]
    }
   ],
   "source": [
    "# import libraries here; add more as necessary\n",
    "import numpy as np\n",
    "from numpy import NaN\n",
    "import pandas as pd\n",
    "import matplotlib.pyplot as plt\n",
    "# import seaborn as sns\n",
    "from sklearn.preprocessing import OneHotEncoder\n",
    "from sklearn.preprocessing import StandardScaler\n",
    "# magic word for producing visualizations in notebook\n",
    "%matplotlib inline"
   ]
  },
  {
   "cell_type": "markdown",
   "metadata": {},
   "source": [
    "### Step 0: Load the Data\n",
    "\n",
    "There are four files associated with this project (not including this one):\n",
    "\n",
    "- `Udacity_AZDIAS_Subset.csv`: Demographics data for the general population of Germany; 891211 persons (rows) x 85 features (columns).\n",
    "- `Udacity_CUSTOMERS_Subset.csv`: Demographics data for customers of a mail-order company; 191652 persons (rows) x 85 features (columns).\n",
    "- `Data_Dictionary.md`: Detailed information file about the features in the provided datasets.\n",
    "- `AZDIAS_Feature_Summary.csv`: Summary of feature attributes for demographics data; 85 features (rows) x 4 columns\n",
    "\n",
    "Each row of the demographics files represents a single person, but also includes information outside of individuals, including information about their household, building, and neighborhood. You will use this information to cluster the general population into groups with similar demographic properties. Then, you will see how the people in the customers dataset fit into those created clusters. The hope here is that certain clusters are over-represented in the customers data, as compared to the general population; those over-represented clusters will be assumed to be part of the core userbase. This information can then be used for further applications, such as targeting for a marketing campaign.\n",
    "\n",
    "To start off with, load in the demographics data for the general population into a pandas DataFrame, and do the same for the feature attributes summary. Note for all of the `.csv` data files in this project: they're semicolon (`;`) delimited, so you'll need an additional argument in your [`read_csv()`](https://pandas.pydata.org/pandas-docs/stable/generated/pandas.read_csv.html) call to read in the data properly. Also, considering the size of the main dataset, it may take some time for it to load completely.\n",
    "\n",
    "Once the dataset is loaded, it's recommended that you take a little bit of time just browsing the general structure of the dataset and feature summary file. You'll be getting deep into the innards of the cleaning in the first major step of the project, so gaining some general familiarity can help you get your bearings."
   ]
  },
  {
   "cell_type": "code",
   "execution_count": 3,
   "metadata": {},
   "outputs": [],
   "source": [
    "# Load in the general demographics data.\n",
    "azdias = pd.read_csv('data/Udacity_AZDIAS_Subset.csv', delimiter=';')\n",
    "\n",
    "# Load in the feature summary file.\n",
    "feat_info = pd.read_csv('data/AZDIAS_Feature_Summary.csv', delimiter=';')"
   ]
  },
  {
   "cell_type": "code",
   "execution_count": 6,
   "metadata": {},
   "outputs": [
    {
     "name": "stdout",
     "output_type": "stream",
     "text": [
      "general demographics data shape (891221, 85)\n"
     ]
    }
   ],
   "source": [
    "# Check the structure of the data after it's loaded (e.g. print the number of\n",
    "# rows and columns, print the first few rows).\n",
    "print('general demographics data shape', azdias.shape)\n",
    "# azdias.head(10)"
   ]
  },
  {
   "cell_type": "code",
   "execution_count": 7,
   "metadata": {},
   "outputs": [],
   "source": [
    "# feat_info"
   ]
  },
  {
   "cell_type": "markdown",
   "metadata": {},
   "source": [
    "> **Tip**: Add additional cells to keep everything in reasonably-sized chunks! Keyboard shortcut \n",
    "> * `esc --> a` (press escape to enter command mode, then press the 'A' key) adds a new cell before the active cell, and \n",
    "> * `esc --> b` adds a new cell after the active cell. \n",
    "> * `esc --> m` converts an active cell to a markdown cell.\n",
    "> * `esc --> y` converts an active cell to a code cell."
   ]
  },
  {
   "cell_type": "markdown",
   "metadata": {},
   "source": [
    "\n",
    "## Step 1: Preprocessing\n",
    "\n",
    "### Step 1.1: Assess Missing Data\n",
    "\n",
    "The feature summary file contains a summary of properties for each demographics data column. You will use this file to help you make cleaning decisions during this stage of the project. First of all, you should assess the demographics data in terms of missing data. Pay attention to the following points as you perform your analysis, and take notes on what you observe. Make sure that you fill in the **Discussion** cell with your findings and decisions at the end of each step that has one!\n",
    "\n",
    "#### Step 1.1.1: Convert Missing Value Codes to NaNs\n",
    "The fourth column of the feature attributes summary (loaded in above as `feat_info`) documents the codes from the data dictionary that indicate missing or unknown data. While the file encodes this as a list (e.g. `[-1,0]`), this will get read in as a **string** object. You'll need to do a little bit of parsing to make use of it to identify and clean the data. \n",
    "\n",
    "Convert data that matches a 'missing' or 'unknown' value code into a numpy `NaN` value. You might want to see how much data takes on a 'missing' or 'unknown' code, and how much data is naturally missing, as a point of interest.\n",
    "\n",
    "**As one more reminder, you are encouraged to add additional cells to break up your analysis into manageable chunks.**"
   ]
  },
  {
   "cell_type": "code",
   "execution_count": 7,
   "metadata": {},
   "outputs": [],
   "source": [
    "def get_features_nan_values():\n",
    "    \"\"\"\n",
    "    Identify values indicating missing or unknown data for each feature.\n",
    "    \"\"\"\n",
    "    series = feat_info['missing_or_unknown']\n",
    "    attributes = feat_info['attribute']\n",
    "    val_code_list = {}\n",
    "    for index, value in zip(attributes, series.values):\n",
    "        value = value.replace('[','').replace(']','')\n",
    "        if value is '':\n",
    "            val_code_list[index] = []\n",
    "        else:\n",
    "            c = []\n",
    "            for val in value.split(','):\n",
    "                val = val.strip()\n",
    "                if val == 'X' or val == 'XX':\n",
    "                    c.append(val)\n",
    "                elif val is not '':\n",
    "                    c.append(int(val))\n",
    "            val_code_list[index] = c\n",
    "    return val_code_list"
   ]
  },
  {
   "cell_type": "code",
   "execution_count": 8,
   "metadata": {},
   "outputs": [
    {
     "name": "stdout",
     "output_type": "stream",
     "text": [
      "{'AGER_TYP': [-1, 0], 'ALTERSKATEGORIE_GROB': [-1, 0, 9], 'ANREDE_KZ': [-1, 0], 'CJT_GESAMTTYP': [0], 'FINANZ_MINIMALIST': [-1], 'FINANZ_SPARER': [-1], 'FINANZ_VORSORGER': [-1], 'FINANZ_ANLEGER': [-1], 'FINANZ_UNAUFFAELLIGER': [-1], 'FINANZ_HAUSBAUER': [-1], 'FINANZTYP': [-1], 'GEBURTSJAHR': [0], 'GFK_URLAUBERTYP': [], 'GREEN_AVANTGARDE': [], 'HEALTH_TYP': [-1, 0], 'LP_LEBENSPHASE_FEIN': [0], 'LP_LEBENSPHASE_GROB': [0], 'LP_FAMILIE_FEIN': [0], 'LP_FAMILIE_GROB': [0], 'LP_STATUS_FEIN': [0], 'LP_STATUS_GROB': [0], 'NATIONALITAET_KZ': [-1, 0], 'PRAEGENDE_JUGENDJAHRE': [-1, 0], 'RETOURTYP_BK_S': [0], 'SEMIO_SOZ': [-1, 9], 'SEMIO_FAM': [-1, 9], 'SEMIO_REL': [-1, 9], 'SEMIO_MAT': [-1, 9], 'SEMIO_VERT': [-1, 9], 'SEMIO_LUST': [-1, 9], 'SEMIO_ERL': [-1, 9], 'SEMIO_KULT': [-1, 9], 'SEMIO_RAT': [-1, 9], 'SEMIO_KRIT': [-1, 9], 'SEMIO_DOM': [-1, 9], 'SEMIO_KAEM': [-1, 9], 'SEMIO_PFLICHT': [-1, 9], 'SEMIO_TRADV': [-1, 9], 'SHOPPER_TYP': [-1], 'SOHO_KZ': [-1], 'TITEL_KZ': [-1, 0], 'VERS_TYP': [-1], 'ZABEOTYP': [-1, 9], 'ALTER_HH': [0], 'ANZ_PERSONEN': [], 'ANZ_TITEL': [], 'HH_EINKOMMEN_SCORE': [-1, 0], 'KK_KUNDENTYP': [-1], 'W_KEIT_KIND_HH': [-1, 0], 'WOHNDAUER_2008': [-1, 0], 'ANZ_HAUSHALTE_AKTIV': [0], 'ANZ_HH_TITEL': [], 'GEBAEUDETYP': [-1, 0], 'KONSUMNAEHE': [], 'MIN_GEBAEUDEJAHR': [0], 'OST_WEST_KZ': [-1], 'WOHNLAGE': [-1], 'CAMEO_DEUG_2015': [-1, 'X'], 'CAMEO_DEU_2015': ['XX'], 'CAMEO_INTL_2015': [-1, 'XX'], 'KBA05_ANTG1': [-1], 'KBA05_ANTG2': [-1], 'KBA05_ANTG3': [-1], 'KBA05_ANTG4': [-1], 'KBA05_BAUMAX': [-1, 0], 'KBA05_GBZ': [-1, 0], 'BALLRAUM': [-1], 'EWDICHTE': [-1], 'INNENSTADT': [-1], 'GEBAEUDETYP_RASTER': [], 'KKK': [-1, 0], 'MOBI_REGIO': [], 'ONLINE_AFFINITAET': [], 'REGIOTYP': [-1, 0], 'KBA13_ANZAHL_PKW': [], 'PLZ8_ANTG1': [-1], 'PLZ8_ANTG2': [-1], 'PLZ8_ANTG3': [-1], 'PLZ8_ANTG4': [-1], 'PLZ8_BAUMAX': [-1, 0], 'PLZ8_HHZ': [-1], 'PLZ8_GBZ': [-1], 'ARBEIT': [-1, 9], 'ORTSGR_KLS9': [-1, 0], 'RELAT_AB': [-1, 9]}\n"
     ]
    }
   ],
   "source": [
    "nan_values_map = get_features_nan_values()\n",
    "print(nan_values_map)"
   ]
  },
  {
   "cell_type": "code",
   "execution_count": 9,
   "metadata": {},
   "outputs": [],
   "source": [
    "def convert_missing_unknown_values_to_nan(dataframe, nan_values_map):\n",
    "    \"\"\"\n",
    "    Convert missing or unknown values to NaN.\n",
    "    \"\"\"\n",
    "    for attr in nan_values_map:\n",
    "        dataframe.loc[dataframe[attr].isin(nan_values_map[attr]), attr] = NaN\n",
    "    return dataframe"
   ]
  },
  {
   "cell_type": "code",
   "execution_count": 12,
   "metadata": {},
   "outputs": [],
   "source": [
    "# Convert missing or unknown values to NaN\n",
    "updated_azdias = convert_missing_unknown_values_to_nan(azdias, nan_values_map)"
   ]
  },
  {
   "cell_type": "code",
   "execution_count": 8,
   "metadata": {},
   "outputs": [],
   "source": [
    "# updated_azdias.head()"
   ]
  },
  {
   "cell_type": "markdown",
   "metadata": {},
   "source": [
    "#### Step 1.1.2: Assess Missing Data in Each Column\n",
    "\n",
    "How much missing data is present in each column? There are a few columns that are outliers in terms of the proportion of values that are missing. You will want to use matplotlib's [`hist()`](https://matplotlib.org/api/_as_gen/matplotlib.pyplot.hist.html) function to visualize the distribution of missing value counts to find these columns. Identify and document these columns. While some of these columns might have justifications for keeping or re-encoding the data, for this project you should just remove them from the dataframe. (Feel free to make remarks about these outlier columns in the discussion, however!)\n",
    "\n",
    "For the remaining features, are there any patterns in which columns have, or share, missing data?"
   ]
  },
  {
   "cell_type": "markdown",
   "metadata": {},
   "source": [
    "**Perform an assessment of how much missing data there is in each column of the dataset.**"
   ]
  },
  {
   "cell_type": "code",
   "execution_count": 14,
   "metadata": {},
   "outputs": [],
   "source": [
    "def get_nan_values_counts(dataframe, nan_values_map):\n",
    "    \"\"\"\n",
    "    Get NaN values count for each feature\n",
    "    \"\"\"\n",
    "    missing_values_counts = {}\n",
    "    for attr in nan_values_map:\n",
    "        missing_values_counts[attr] = dataframe.shape[0] - dataframe[attr].value_counts().sum()\n",
    "    return missing_values_counts"
   ]
  },
  {
   "cell_type": "code",
   "execution_count": 16,
   "metadata": {},
   "outputs": [
    {
     "data": {
      "image/png": "[encoded data removed]",
      "text/plain": [
       "<Figure size 432x288 with 1 Axes>"
      ]
     },
     "metadata": {},
     "output_type": "display_data"
    }
   ],
   "source": [
    "missing_values_counts = get_nan_values_counts(updated_azdias, nan_values_map)\n",
    "plt.scatter(missing_values_counts.keys(), missing_values_counts.values())\n",
    "plt.show()"
   ]
  },
  {
   "cell_type": "markdown",
   "metadata": {},
   "source": [
    "**Investigate patterns in the amount of missing data in each column.**"
   ]
  },
  {
   "cell_type": "code",
   "execution_count": 17,
   "metadata": {},
   "outputs": [],
   "source": [
    "def get_column_outliers(missing_values_counts, row_num, threshold):\n",
    "    \"\"\"\n",
    "    Get columns that are outliers based on the threshold\n",
    "    \"\"\"\n",
    "    column_outliers = []\n",
    "    for attr in missing_values_counts.keys():\n",
    "        nan_counts = missing_values_counts[attr] \n",
    "        missing_ratio = np.float(nan_counts / row_num)\n",
    "        if missing_ratio >= threshold:\n",
    "            print(attr, 'has', nan_counts, 'amount of NaN', \", with ratio\", missing_ratio)\n",
    "            column_outliers.append(attr)\n",
    "    return column_outliers"
   ]
  },
  {
   "cell_type": "code",
   "execution_count": 18,
   "metadata": {},
   "outputs": [
    {
     "name": "stdout",
     "output_type": "stream",
     "text": [
      "AGER_TYP has 685843 amount of NaN , with ratio 0.7695543529607134\n",
      "GEBURTSJAHR has 392318 amount of NaN , with ratio 0.4402028228688507\n",
      "TITEL_KZ has 889061 amount of NaN , with ratio 0.9975763587258379\n",
      "ALTER_HH has 310267 amount of NaN , with ratio 0.34813699407890975\n",
      "KK_KUNDENTYP has 584612 amount of NaN , with ratio 0.6559674873011295\n",
      "KBA05_BAUMAX has 476524 amount of NaN , with ratio 0.5346866826522265\n"
     ]
    }
   ],
   "source": [
    "total_row_num = updated_azdias.shape[0]\n",
    "threshold = 0.3\n",
    "column_outliers = get_column_outliers(missing_values_counts, total_row_num, threshold)"
   ]
  },
  {
   "cell_type": "code",
   "execution_count": 19,
   "metadata": {},
   "outputs": [
    {
     "data": {
      "text/plain": [
       "['AGER_TYP',\n",
       " 'GEBURTSJAHR',\n",
       " 'TITEL_KZ',\n",
       " 'ALTER_HH',\n",
       " 'KK_KUNDENTYP',\n",
       " 'KBA05_BAUMAX']"
      ]
     },
     "execution_count": 19,
     "metadata": {},
     "output_type": "execute_result"
    }
   ],
   "source": [
    "column_outliers"
   ]
  },
  {
   "cell_type": "code",
   "execution_count": 20,
   "metadata": {},
   "outputs": [
    {
     "data": {
      "text/plain": [
       "(891221, 79)"
      ]
     },
     "execution_count": 20,
     "metadata": {},
     "output_type": "execute_result"
    }
   ],
   "source": [
    "# Remove the outlier columns from the dataset. (You'll perform other data\n",
    "# engineering tasks such as re-encoding and imputation later.)\n",
    "outliers_cols_removed_azdias = azdias.drop(column_outliers, axis=1)\n",
    "outliers_cols_removed_azdias.shape"
   ]
  },
  {
   "cell_type": "code",
   "execution_count": 9,
   "metadata": {},
   "outputs": [],
   "source": [
    "# outliers_cols_removed_azdias.head()"
   ]
  },
  {
   "cell_type": "markdown",
   "metadata": {},
   "source": [
    "#### Discussion 1.1.2: Assess Missing Data in Each Column\n",
    "\n",
    "(Double click this cell and replace this text with your own text, reporting your observations regarding the amount of missing data in each column. Are there any patterns in missing values? Which columns were removed from the dataset?)"
   ]
  },
  {
   "cell_type": "markdown",
   "metadata": {},
   "source": [
    "#### Step 1.1.3: Assess Missing Data in Each Row\n",
    "\n",
    "Now, you'll perform a similar assessment for the rows of the dataset. How much data is missing in each row? As with the columns, you should see some groups of points that have a very different numbers of missing values. \n",
    "\n",
    "> Divide the data into two subsets: one for data points that are above some threshold for missing values, and a second subset for points below that threshold.\n",
    "\n",
    "In order to know what to do with the outlier rows, we should see if the distribution of data values on columns that are not missing data (or are missing very little data) are similar or different between the two groups. Select at least five of these columns and compare the distribution of values.\n",
    "- You can use seaborn's [`countplot()`](https://seaborn.pydata.org/generated/seaborn.countplot.html) function to create a bar chart of code frequencies and matplotlib's [`subplot()`](https://matplotlib.org/api/_as_gen/matplotlib.pyplot.subplot.html) function to put bar charts for the two subplots side by side.\n",
    "- To reduce repeated code, you might want to write a function that can perform this comparison, taking as one of its arguments a column to be compared.\n",
    "\n",
    "Depending on what you observe in your comparison, this will have implications on how you approach your conclusions later in the analysis. \n",
    "\n",
    "> If the distributions of non-missing features look similar between the data with many missing values and the data with few or no missing values, then we could argue that simply dropping those points from the analysis won't present a major issue. \n",
    ">\n",
    "> On the other hand, if the data with many missing values looks very different from the data with few or no missing values, then we should make a note on those data as special. \n",
    "\n",
    "Make sure you report your observations in the discussion section. **Either way, you should continue your analysis below using just the subset of the data with few or no missing values.**"
   ]
  },
  {
   "cell_type": "code",
   "execution_count": 22,
   "metadata": {},
   "outputs": [],
   "source": [
    "# How much data is missing in each row of the dataset?\n",
    "# find if element is NaN or not by isnull() and then take row-wise sum(axis=1)\n",
    "nan_counts_for_rows = outliers_cols_removed_azdias.isnull().sum(axis=1).tolist()"
   ]
  },
  {
   "cell_type": "code",
   "execution_count": 23,
   "metadata": {},
   "outputs": [
    {
     "data": {
      "text/plain": [
       "891221"
      ]
     },
     "execution_count": 23,
     "metadata": {},
     "output_type": "execute_result"
    }
   ],
   "source": [
    "len(nan_counts_for_rows)"
   ]
  },
  {
   "cell_type": "code",
   "execution_count": 24,
   "metadata": {},
   "outputs": [],
   "source": [
    "# sample small subset of all examples to the the distribution of NaN values for all features\n",
    "sampled_indexes = np.random.choice(nan_counts_for_rows, 1000)"
   ]
  },
  {
   "cell_type": "code",
   "execution_count": 25,
   "metadata": {},
   "outputs": [
    {
     "data": {
      "image/png": "[encoded data removed]",
      "text/plain": [
       "<Figure size 432x288 with 1 Axes>"
      ]
     },
     "metadata": {},
     "output_type": "display_data"
    }
   ],
   "source": [
    "plt.scatter(range(len(sampled_indexes)), sampled_indexes)\n",
    "plt.show()"
   ]
  },
  {
   "cell_type": "markdown",
   "metadata": {},
   "source": [
    "**It is trivial to see that 30 would be the threshold for spliting dataset**"
   ]
  },
  {
   "cell_type": "code",
   "execution_count": 26,
   "metadata": {},
   "outputs": [],
   "source": [
    "# Write code to divide the data into two subsets based on the number of missing\n",
    "# values in each row.\n",
    "outliers_cols_removed_azdias['row_nan'] = nan_counts_for_rows"
   ]
  },
  {
   "cell_type": "code",
   "execution_count": 28,
   "metadata": {},
   "outputs": [],
   "source": [
    "azidas_above_threshold = outliers_cols_removed_azdias[outliers_cols_removed_azdias['row_nan'] >= 30]\n",
    "azidas_below_threshold = outliers_cols_removed_azdias[outliers_cols_removed_azdias['row_nan'] < 30]"
   ]
  },
  {
   "cell_type": "code",
   "execution_count": 29,
   "metadata": {},
   "outputs": [],
   "source": [
    "azidas_above_threshold = azidas_above_threshold.drop('row_nan', axis=1)\n",
    "azidas_below_threshold = azidas_below_threshold.drop('row_nan', axis=1)"
   ]
  },
  {
   "cell_type": "code",
   "execution_count": 30,
   "metadata": {},
   "outputs": [
    {
     "name": "stdout",
     "output_type": "stream",
     "text": [
      "93160\n",
      "798061\n"
     ]
    }
   ],
   "source": [
    "print(len(azidas_above_threshold))\n",
    "print(len(azidas_below_threshold))"
   ]
  },
  {
   "cell_type": "code",
   "execution_count": 31,
   "metadata": {},
   "outputs": [],
   "source": [
    "# Identify columns where there are no NaN values, between the two subsets.\n",
    "col_names = list(azidas_below_threshold.columns)\n",
    "col_withno_nan = []\n",
    "for name in col_names:\n",
    "    if azidas_above_threshold[name].isnull().sum(axis=0) == 0 \\\n",
    "    and azidas_below_threshold[name].isnull().sum(axis=0) == 0:\n",
    "        col_withno_nan.append(name)"
   ]
  },
  {
   "cell_type": "code",
   "execution_count": 32,
   "metadata": {},
   "outputs": [
    {
     "data": {
      "text/plain": [
       "['ANREDE_KZ',\n",
       " 'FINANZ_MINIMALIST',\n",
       " 'FINANZ_SPARER',\n",
       " 'FINANZ_VORSORGER',\n",
       " 'FINANZ_ANLEGER',\n",
       " 'FINANZ_UNAUFFAELLIGER',\n",
       " 'FINANZ_HAUSBAUER',\n",
       " 'FINANZTYP',\n",
       " 'GREEN_AVANTGARDE',\n",
       " 'SEMIO_SOZ',\n",
       " 'SEMIO_FAM',\n",
       " 'SEMIO_REL',\n",
       " 'SEMIO_MAT',\n",
       " 'SEMIO_VERT',\n",
       " 'SEMIO_LUST',\n",
       " 'SEMIO_ERL',\n",
       " 'SEMIO_KULT',\n",
       " 'SEMIO_RAT',\n",
       " 'SEMIO_KRIT',\n",
       " 'SEMIO_DOM',\n",
       " 'SEMIO_KAEM',\n",
       " 'SEMIO_PFLICHT',\n",
       " 'SEMIO_TRADV',\n",
       " 'ZABEOTYP']"
      ]
     },
     "execution_count": 32,
     "metadata": {},
     "output_type": "execute_result"
    }
   ],
   "source": [
    "col_withno_nan"
   ]
  },
  {
   "cell_type": "code",
   "execution_count": 33,
   "metadata": {},
   "outputs": [],
   "source": [
    "def figure_plot(value_above, value_below, value_name):\n",
    "    plt.plot(range(len(value_above)), value_above, color='b')\n",
    "    plt.plot(range(len(value_below)), value_below, color='r')\n",
    "    plt.title(value_name)\n",
    "    plt.grid(True)"
   ]
  },
  {
   "cell_type": "markdown",
   "metadata": {},
   "source": [
    "**Compare data distribution between the two sebsets (i.e., above threshold and below threshold) on columns/features with no NaN values**"
   ]
  },
  {
   "cell_type": "code",
   "execution_count": 34,
   "metadata": {},
   "outputs": [],
   "source": [
    "mean_above = azidas_above_threshold[col_withno_nan].mean(axis=0)\n",
    "mean_below = azidas_below_threshold[col_withno_nan].mean(axis=0)"
   ]
  },
  {
   "cell_type": "code",
   "execution_count": 35,
   "metadata": {},
   "outputs": [
    {
     "data": {
      "image/png": "[encoded data removed]",
      "text/plain": [
       "<Figure size 432x288 with 1 Axes>"
      ]
     },
     "metadata": {},
     "output_type": "display_data"
    }
   ],
   "source": [
    "figure_plot(mean_above, mean_below, 'mean')"
   ]
  },
  {
   "cell_type": "code",
   "execution_count": 36,
   "metadata": {},
   "outputs": [],
   "source": [
    "var_above = azidas_above_threshold[col_withno_nan].var(axis=0)\n",
    "var_below = azidas_below_threshold[col_withno_nan].var(axis=0)"
   ]
  },
  {
   "cell_type": "code",
   "execution_count": 37,
   "metadata": {},
   "outputs": [
    {
     "data": {
      "image/png": "[encoded data removed]",
      "text/plain": [
       "<Figure size 432x288 with 1 Axes>"
      ]
     },
     "metadata": {},
     "output_type": "display_data"
    }
   ],
   "source": [
    "figure_plot(var_above, var_below, 'variance')"
   ]
  },
  {
   "cell_type": "markdown",
   "metadata": {},
   "source": [
    "#### Discussion 1.1.3: Assess Missing Data in Each Row\n",
    "\n",
    "(Double-click this cell and replace this text with your own text, reporting your observations regarding missing data in rows. Are the data with lots of missing values are qualitatively different from data with few or no missing values?)"
   ]
  },
  {
   "cell_type": "code",
   "execution_count": 64,
   "metadata": {},
   "outputs": [],
   "source": [
    "## Prepare data for the next section\n",
    "azdias_12 = outliers_cols_removed_azdias.copy()"
   ]
  },
  {
   "cell_type": "code",
   "execution_count": 10,
   "metadata": {},
   "outputs": [],
   "source": [
    "# azdias_12.head()"
   ]
  },
  {
   "cell_type": "markdown",
   "metadata": {},
   "source": [
    "### Step 1.2: Select and Re-Encode Features\n",
    "\n",
    "Checking for missing data isn't the only way in which you can prepare a dataset for analysis. Since the unsupervised learning techniques to be used will only work on data that is encoded numerically, you need to make a few encoding changes or additional assumptions to be able to make progress. In addition, while almost all of the values in the dataset are encoded using numbers, not all of them represent numeric values. Check the third column of the feature summary (`feat_info`) for a summary of types of measurement.\n",
    "- For numeric and interval data, these features can be kept without changes.\n",
    "- Most of the variables in the dataset are ordinal in nature. **While ordinal values may technically be non-linear in spacing, make the simplifying assumption that the ordinal variables can be treated as being interval in nature (that is, kept without any changes)**.\n",
    "- **Special handling may be necessary for the remaining two variable types: categorical, and 'mixed'**.\n",
    "\n",
    "In the first two parts of this sub-step, you will perform an investigation of the categorical and mixed-type features and make a decision on each of them, whether you will keep, drop, or re-encode each. Then, in the last part, you will create a new data frame with only the selected and engineered columns.\n",
    "\n",
    "**Data wrangling** is often the trickiest part of the data analysis process, and there's a lot of it to be done here. But stick with it: once you're done with this step, you'll be ready to get to the machine learning parts of the project!"
   ]
  },
  {
   "cell_type": "code",
   "execution_count": 66,
   "metadata": {},
   "outputs": [
    {
     "name": "stdout",
     "output_type": "stream",
     "text": [
      "categorical_feature_num: 21\n",
      "mixed_feature_num: 7\n"
     ]
    }
   ],
   "source": [
    "# How many features are there of each data type?\n",
    "categorical_feature_num = feat_info[feat_info['type']=='categorical'].shape[0]\n",
    "mixed_feature_num = feat_info[feat_info['type']=='mixed'].shape[0]\n",
    "print(\"categorical_feature_num:\", categorical_feature_num)\n",
    "print(\"mixed_feature_num:\", mixed_feature_num)"
   ]
  },
  {
   "cell_type": "markdown",
   "metadata": {},
   "source": [
    "#### Step 1.2.1: Re-Encode Categorical Features\n",
    "\n",
    "> For categorical data, you would ordinarily need to encode the levels as dummy variables. Depending on the number of categories, perform one of the following:\n",
    "> - For binary (two-level) categoricals that take numeric values, you can keep them without needing to do anything.\n",
    "> - There is one binary variable that takes on non-numeric values. For this one, you need to re-encode the values as numbers or create a dummy variable.\n",
    "> - For multi-level categoricals (three or more values), you can choose to encode the values using multiple dummy variables (e.g. via [OneHotEncoder](http://scikit-learn.org/stable/modules/generated/sklearn.preprocessing.OneHotEncoder.html)), or (to keep things straightforward) just drop them from the analysis. As always, document your choices in the Discussion section."
   ]
  },
  {
   "cell_type": "code",
   "execution_count": 67,
   "metadata": {},
   "outputs": [
    {
     "data": {
      "text/plain": [
       "['AGER_TYP',\n",
       " 'ANREDE_KZ',\n",
       " 'CJT_GESAMTTYP',\n",
       " 'FINANZTYP',\n",
       " 'GFK_URLAUBERTYP',\n",
       " 'GREEN_AVANTGARDE',\n",
       " 'LP_FAMILIE_FEIN',\n",
       " 'LP_FAMILIE_GROB',\n",
       " 'LP_STATUS_FEIN',\n",
       " 'LP_STATUS_GROB',\n",
       " 'NATIONALITAET_KZ',\n",
       " 'SHOPPER_TYP',\n",
       " 'SOHO_KZ',\n",
       " 'TITEL_KZ',\n",
       " 'VERS_TYP',\n",
       " 'ZABEOTYP',\n",
       " 'KK_KUNDENTYP',\n",
       " 'GEBAEUDETYP',\n",
       " 'OST_WEST_KZ',\n",
       " 'CAMEO_DEUG_2015',\n",
       " 'CAMEO_DEU_2015']"
      ]
     },
     "execution_count": 67,
     "metadata": {},
     "output_type": "execute_result"
    }
   ],
   "source": [
    "# collection features of categorical type\n",
    "categorical_feature_names = feat_info[feat_info['type']=='categorical']['attribute']\n",
    "categorical_feature_names_list = list(categorical_feature_names.values)\n",
    "categorical_feature_names_list"
   ]
  },
  {
   "cell_type": "markdown",
   "metadata": {},
   "source": [
    "> **NOTE**: Both `CAMEO_DEUG_2015` and `CAMEO_DEU_2015` are for Wealth / Life Stage Typology, one for detailed scale and the other for rough scale. We only keep `CAMEO_DEUG_2015` for rough scale"
   ]
  },
  {
   "cell_type": "code",
   "execution_count": 68,
   "metadata": {},
   "outputs": [],
   "source": [
    "azdias_12 = azdias_12.drop(\"CAMEO_DEU_2015\", axis=1)"
   ]
  },
  {
   "cell_type": "code",
   "execution_count": 69,
   "metadata": {},
   "outputs": [],
   "source": [
    "azdias_12 = azdias_12.drop(\"row_nan\", axis=1)"
   ]
  },
  {
   "cell_type": "code",
   "execution_count": 70,
   "metadata": {},
   "outputs": [
    {
     "data": {
      "text/plain": [
       "['AGER_TYP',\n",
       " 'ANREDE_KZ',\n",
       " 'CJT_GESAMTTYP',\n",
       " 'FINANZTYP',\n",
       " 'GFK_URLAUBERTYP',\n",
       " 'GREEN_AVANTGARDE',\n",
       " 'LP_FAMILIE_FEIN',\n",
       " 'LP_FAMILIE_GROB',\n",
       " 'LP_STATUS_FEIN',\n",
       " 'LP_STATUS_GROB',\n",
       " 'NATIONALITAET_KZ',\n",
       " 'SHOPPER_TYP',\n",
       " 'SOHO_KZ',\n",
       " 'TITEL_KZ',\n",
       " 'VERS_TYP',\n",
       " 'ZABEOTYP',\n",
       " 'KK_KUNDENTYP',\n",
       " 'GEBAEUDETYP',\n",
       " 'OST_WEST_KZ',\n",
       " 'CAMEO_DEUG_2015']"
      ]
     },
     "execution_count": 70,
     "metadata": {},
     "output_type": "execute_result"
    }
   ],
   "source": [
    "# delete CAMEO_DEU_2015 from the list\n",
    "del categorical_feature_names_list[-1]\n",
    "categorical_feature_names_list"
   ]
  },
  {
   "cell_type": "markdown",
   "metadata": {},
   "source": [
    "** Assess categorical variables: which are binary, which are multi-level, and which one needs to be re-encoded?**"
   ]
  },
  {
   "cell_type": "code",
   "execution_count": 71,
   "metadata": {},
   "outputs": [],
   "source": [
    "def get_categorical_features_level(feat_info, dataframe):\n",
    "    \"\"\"\n",
    "    Get two lists of features, one for binary features and the other for multi-level features\n",
    "    \"\"\"\n",
    "    categorical_feature_names = feat_info[feat_info['type']=='categorical']['attribute']\n",
    "    binary_categorical_features = []\n",
    "    multilevel_categorical_features = []\n",
    "    for name in dataframe.columns.values:\n",
    "        if name in categorical_feature_names_list:\n",
    "            c = dataframe[name].value_counts().shape[0]\n",
    "            if c == 2:\n",
    "                binary_categorical_features.append(name)\n",
    "            elif c > 2:\n",
    "                multilevel_categorical_features.append(name)\n",
    "    return binary_categorical_features, multilevel_categorical_features"
   ]
  },
  {
   "cell_type": "code",
   "execution_count": 72,
   "metadata": {},
   "outputs": [
    {
     "name": "stdout",
     "output_type": "stream",
     "text": [
      "['ANREDE_KZ', 'GREEN_AVANTGARDE', 'SOHO_KZ', 'VERS_TYP', 'OST_WEST_KZ']\n",
      "['CJT_GESAMTTYP', 'FINANZTYP', 'GFK_URLAUBERTYP', 'LP_FAMILIE_FEIN', 'LP_FAMILIE_GROB', 'LP_STATUS_FEIN', 'LP_STATUS_GROB', 'NATIONALITAET_KZ', 'SHOPPER_TYP', 'ZABEOTYP', 'GEBAEUDETYP', 'CAMEO_DEUG_2015']\n"
     ]
    }
   ],
   "source": [
    "binary_categorical_features, multilevel_categorical_features = get_categorical_features_level(feat_info, azdias_12)\n",
    "print(binary_categorical_features)\n",
    "print(multilevel_categorical_features)"
   ]
  },
  {
   "cell_type": "markdown",
   "metadata": {},
   "source": [
    "**Special treatment for `OST_WEST_KZ` **\n",
    "* `OST_WEST_KZ` is a feature of binary categorical type that takes on non-numeric values"
   ]
  },
  {
   "cell_type": "code",
   "execution_count": 73,
   "metadata": {},
   "outputs": [],
   "source": [
    "def convert_str_to_int(value):\n",
    "    if value == 'W':\n",
    "        return 0\n",
    "    elif value == 'O':\n",
    "        return 1\n",
    "    else:\n",
    "        return 99"
   ]
  },
  {
   "cell_type": "code",
   "execution_count": 74,
   "metadata": {},
   "outputs": [],
   "source": [
    "def convert_OST_WEST_KZ(dataframe):\n",
    "    \"\"\"\n",
    "    Convert values in OST_WEST_KZ column from string to integer\n",
    "    \"\"\"\n",
    "    dataframe[\"OST_WEST_KZ\"] = dataframe[\"OST_WEST_KZ\"].map(convert_str_to_int)\n",
    "    return dataframe"
   ]
  },
  {
   "cell_type": "code",
   "execution_count": 75,
   "metadata": {},
   "outputs": [],
   "source": [
    "azdias_12 = convert_OST_WEST_KZ(azdias_12)"
   ]
  },
  {
   "cell_type": "code",
   "execution_count": 76,
   "metadata": {},
   "outputs": [
    {
     "data": {
      "text/plain": [
       "0     629528\n",
       "1     168545\n",
       "99     93148\n",
       "Name: OST_WEST_KZ, dtype: int64"
      ]
     },
     "execution_count": 76,
     "metadata": {},
     "output_type": "execute_result"
    }
   ],
   "source": [
    "azdias_12[\"OST_WEST_KZ\"].value_counts()"
   ]
  },
  {
   "cell_type": "markdown",
   "metadata": {},
   "source": [
    "**One-hot encode `categorical` features**"
   ]
  },
  {
   "cell_type": "code",
   "execution_count": 77,
   "metadata": {},
   "outputs": [],
   "source": [
    "# Note we will use this function in multiple places\n",
    "def convert_to_one_hot_columns(data_series, column_name):\n",
    "    \"\"\"\n",
    "    Convert a column to one hot columns\n",
    "    \"\"\"\n",
    "    row_num = len(data_series)\n",
    "    # reshape the input data_series from 1-D array to matrix with shape [num_samples, 1]\n",
    "    # This is required by the OneHotEncoder to inference the value range\n",
    "    reshaped_matrix = np.reshape(data_series.values, [row_num, -1])\n",
    "    \n",
    "    # one-hot encode the specified column\n",
    "    enc = OneHotEncoder()\n",
    "    enc.fit(reshaped_matrix) \n",
    "    transformed_matrix = enc.transform(reshaped_matrix).toarray()\n",
    "    \n",
    "    # generate column names for one-hot encoder columns\n",
    "    col_num = transformed_matrix.shape[1]\n",
    "    cols = []\n",
    "    for i in range(col_num):\n",
    "        cols.append(column_name + \"_\" + str(i))\n",
    "\n",
    "    # create dataframe for one-hot encoder columns\n",
    "    new_cols = pd.DataFrame(data=transformed_matrix, columns=cols)\n",
    "    return new_cols"
   ]
  },
  {
   "cell_type": "code",
   "execution_count": 78,
   "metadata": {},
   "outputs": [],
   "source": [
    "# va1 = \"dd\"\n",
    "# val1 = 999\n",
    "# val2 = 0.9\n",
    "# val3 = NaN\n",
    "# print(np.isnan(val))\n",
    "# print(np.isnan(val1))\n",
    "# print(np.isnan(val2))\n",
    "# print(np.isnan(val3))\n",
    "\n",
    "# from numbers import Number\n",
    "# s = \"8A\"\n",
    "# isinstance(s, Number)"
   ]
  },
  {
   "cell_type": "code",
   "execution_count": 79,
   "metadata": {},
   "outputs": [],
   "source": [
    "# Note we will use this function upon some mixed type features\n",
    "def convert_categorical_feature_nan_to_integer(val):\n",
    "    \"\"\"\n",
    "    Convert NaN and number in string type to an integer representation \n",
    "    \"\"\"\n",
    "    if isinstance(val, str):\n",
    "        val = int(val)\n",
    "    if np.isnan(val):\n",
    "        return 99\n",
    "    return val"
   ]
  },
  {
   "cell_type": "code",
   "execution_count": 80,
   "metadata": {},
   "outputs": [],
   "source": [
    "def convert_dataframe_nan_to_integer(dataframe, column_white_list, convert_feature_nan_to_integer):\n",
    "    \"\"\"\n",
    "    Convert NaN values in categorical features listed in column_white_list to integer representation\n",
    "    \"\"\"\n",
    "    for col_name in dataframe.columns.values:\n",
    "        if col_name in column_white_list:\n",
    "            print(\"processing column:\", col_name)\n",
    "            dataframe[col_name] = dataframe[col_name].map(convert_feature_nan_to_integer)\n",
    "    return dataframe"
   ]
  },
  {
   "cell_type": "code",
   "execution_count": 81,
   "metadata": {},
   "outputs": [
    {
     "name": "stdout",
     "output_type": "stream",
     "text": [
      "processing column: ANREDE_KZ\n",
      "processing column: CJT_GESAMTTYP\n",
      "processing column: FINANZTYP\n",
      "processing column: GFK_URLAUBERTYP\n",
      "processing column: GREEN_AVANTGARDE\n",
      "processing column: LP_FAMILIE_FEIN\n",
      "processing column: LP_FAMILIE_GROB\n",
      "processing column: LP_STATUS_FEIN\n",
      "processing column: LP_STATUS_GROB\n",
      "processing column: NATIONALITAET_KZ\n",
      "processing column: SHOPPER_TYP\n",
      "processing column: SOHO_KZ\n",
      "processing column: VERS_TYP\n",
      "processing column: ZABEOTYP\n",
      "processing column: GEBAEUDETYP\n",
      "processing column: OST_WEST_KZ\n",
      "processing column: CAMEO_DEUG_2015\n"
     ]
    }
   ],
   "source": [
    "azdias_12 = convert_dataframe_nan_to_integer(azdias_12, categorical_feature_names_list, \\\n",
    "                                             convert_categorical_feature_nan_to_integer)"
   ]
  },
  {
   "cell_type": "code",
   "execution_count": 11,
   "metadata": {},
   "outputs": [],
   "source": [
    "# azdias_12.head()"
   ]
  },
  {
   "cell_type": "code",
   "execution_count": 83,
   "metadata": {},
   "outputs": [],
   "source": [
    "def convert_dataframe_columns_to_one_hot_columns(dataframe, column_white_list):\n",
    "    \"\"\"\n",
    "    Convert categorical features listed in column_white_list to one-hot columns of the specified dataframe\n",
    "    \"\"\"\n",
    "    for col_name in dataframe.columns.values:\n",
    "        if col_name in column_white_list:\n",
    "            print(\"processing column:\", col_name)\n",
    "            new_cols = convert_to_one_hot_columns(dataframe[col_name], col_name)\n",
    "            dataframe = pd.merge(dataframe, new_cols, left_index=True, right_index=True)\n",
    "            # drop the original column\n",
    "            dataframe = dataframe.drop(col_name, axis=1)\n",
    "    return dataframe"
   ]
  },
  {
   "cell_type": "code",
   "execution_count": 84,
   "metadata": {},
   "outputs": [
    {
     "name": "stdout",
     "output_type": "stream",
     "text": [
      "processing column: ANREDE_KZ\n",
      "processing column: CJT_GESAMTTYP\n",
      "processing column: FINANZTYP\n",
      "processing column: GFK_URLAUBERTYP\n",
      "processing column: GREEN_AVANTGARDE\n",
      "processing column: LP_FAMILIE_FEIN\n",
      "processing column: LP_FAMILIE_GROB\n",
      "processing column: LP_STATUS_FEIN\n",
      "processing column: LP_STATUS_GROB\n",
      "processing column: NATIONALITAET_KZ\n",
      "processing column: SHOPPER_TYP\n",
      "processing column: SOHO_KZ\n",
      "processing column: VERS_TYP\n",
      "processing column: ZABEOTYP\n",
      "processing column: GEBAEUDETYP\n",
      "processing column: OST_WEST_KZ\n",
      "processing column: CAMEO_DEUG_2015\n"
     ]
    }
   ],
   "source": [
    "azdias_12 = convert_dataframe_columns_to_one_hot_columns(azdias_12, categorical_feature_names_list)"
   ]
  },
  {
   "cell_type": "code",
   "execution_count": 13,
   "metadata": {},
   "outputs": [],
   "source": [
    "# print(azdias_12.shape)\n",
    "# azdias_12.columns.values"
   ]
  },
  {
   "cell_type": "markdown",
   "metadata": {},
   "source": [
    "**Address NaN values in `ordinal` features**\n",
    "\n",
    "* We assume that the ordinal variables can be treated as being interval in nature. The only thing we will do for ordinal features is to convert NaN values to integer representation"
   ]
  },
  {
   "cell_type": "code",
   "execution_count": 86,
   "metadata": {},
   "outputs": [
    {
     "data": {
      "text/plain": [
       "['ALTERSKATEGORIE_GROB',\n",
       " 'FINANZ_MINIMALIST',\n",
       " 'FINANZ_SPARER',\n",
       " 'FINANZ_VORSORGER',\n",
       " 'FINANZ_ANLEGER',\n",
       " 'FINANZ_UNAUFFAELLIGER',\n",
       " 'FINANZ_HAUSBAUER',\n",
       " 'HEALTH_TYP',\n",
       " 'RETOURTYP_BK_S',\n",
       " 'SEMIO_SOZ',\n",
       " 'SEMIO_FAM',\n",
       " 'SEMIO_REL',\n",
       " 'SEMIO_MAT',\n",
       " 'SEMIO_VERT',\n",
       " 'SEMIO_LUST',\n",
       " 'SEMIO_ERL',\n",
       " 'SEMIO_KULT',\n",
       " 'SEMIO_RAT',\n",
       " 'SEMIO_KRIT',\n",
       " 'SEMIO_DOM',\n",
       " 'SEMIO_KAEM',\n",
       " 'SEMIO_PFLICHT',\n",
       " 'SEMIO_TRADV',\n",
       " 'HH_EINKOMMEN_SCORE',\n",
       " 'W_KEIT_KIND_HH',\n",
       " 'WOHNDAUER_2008',\n",
       " 'KONSUMNAEHE',\n",
       " 'KBA05_ANTG1',\n",
       " 'KBA05_ANTG2',\n",
       " 'KBA05_ANTG3',\n",
       " 'KBA05_ANTG4',\n",
       " 'KBA05_GBZ',\n",
       " 'BALLRAUM',\n",
       " 'EWDICHTE',\n",
       " 'INNENSTADT',\n",
       " 'GEBAEUDETYP_RASTER',\n",
       " 'KKK',\n",
       " 'MOBI_REGIO',\n",
       " 'ONLINE_AFFINITAET',\n",
       " 'REGIOTYP',\n",
       " 'PLZ8_ANTG1',\n",
       " 'PLZ8_ANTG2',\n",
       " 'PLZ8_ANTG3',\n",
       " 'PLZ8_ANTG4',\n",
       " 'PLZ8_HHZ',\n",
       " 'PLZ8_GBZ',\n",
       " 'ARBEIT',\n",
       " 'ORTSGR_KLS9',\n",
       " 'RELAT_AB']"
      ]
     },
     "execution_count": 86,
     "metadata": {},
     "output_type": "execute_result"
    }
   ],
   "source": [
    "ordinal_feature_names = feat_info[feat_info['type']=='ordinal']['attribute']\n",
    "ordinal_feature_names_list = list(ordinal_feature_names.values)\n",
    "ordinal_feature_names_list"
   ]
  },
  {
   "cell_type": "code",
   "execution_count": 87,
   "metadata": {},
   "outputs": [],
   "source": [
    "def convert_ordinal_feature_nan_to_integer(val):\n",
    "    if isinstance(val, str):\n",
    "        val = int(val)\n",
    "    if np.isnan(val):\n",
    "        return -1\n",
    "    return val"
   ]
  },
  {
   "cell_type": "code",
   "execution_count": 88,
   "metadata": {},
   "outputs": [
    {
     "name": "stdout",
     "output_type": "stream",
     "text": [
      "processing column: ALTERSKATEGORIE_GROB\n",
      "processing column: FINANZ_MINIMALIST\n",
      "processing column: FINANZ_SPARER\n",
      "processing column: FINANZ_VORSORGER\n",
      "processing column: FINANZ_ANLEGER\n",
      "processing column: FINANZ_UNAUFFAELLIGER\n",
      "processing column: FINANZ_HAUSBAUER\n",
      "processing column: HEALTH_TYP\n",
      "processing column: RETOURTYP_BK_S\n",
      "processing column: SEMIO_SOZ\n",
      "processing column: SEMIO_FAM\n",
      "processing column: SEMIO_REL\n",
      "processing column: SEMIO_MAT\n",
      "processing column: SEMIO_VERT\n",
      "processing column: SEMIO_LUST\n",
      "processing column: SEMIO_ERL\n",
      "processing column: SEMIO_KULT\n",
      "processing column: SEMIO_RAT\n",
      "processing column: SEMIO_KRIT\n",
      "processing column: SEMIO_DOM\n",
      "processing column: SEMIO_KAEM\n",
      "processing column: SEMIO_PFLICHT\n",
      "processing column: SEMIO_TRADV\n",
      "processing column: HH_EINKOMMEN_SCORE\n",
      "processing column: W_KEIT_KIND_HH\n",
      "processing column: WOHNDAUER_2008\n",
      "processing column: KONSUMNAEHE\n",
      "processing column: KBA05_ANTG1\n",
      "processing column: KBA05_ANTG2\n",
      "processing column: KBA05_ANTG3\n",
      "processing column: KBA05_ANTG4\n",
      "processing column: KBA05_GBZ\n",
      "processing column: BALLRAUM\n",
      "processing column: EWDICHTE\n",
      "processing column: INNENSTADT\n",
      "processing column: GEBAEUDETYP_RASTER\n",
      "processing column: KKK\n",
      "processing column: MOBI_REGIO\n",
      "processing column: ONLINE_AFFINITAET\n",
      "processing column: REGIOTYP\n",
      "processing column: PLZ8_ANTG1\n",
      "processing column: PLZ8_ANTG2\n",
      "processing column: PLZ8_ANTG3\n",
      "processing column: PLZ8_ANTG4\n",
      "processing column: PLZ8_HHZ\n",
      "processing column: PLZ8_GBZ\n",
      "processing column: ARBEIT\n",
      "processing column: ORTSGR_KLS9\n",
      "processing column: RELAT_AB\n"
     ]
    }
   ],
   "source": [
    "azdias_12 = convert_dataframe_nan_to_integer(azdias_12, ordinal_feature_names_list, \\\n",
    "                                             convert_ordinal_feature_nan_to_integer)"
   ]
  },
  {
   "cell_type": "code",
   "execution_count": 14,
   "metadata": {},
   "outputs": [],
   "source": [
    "# print(azdias_12.shape)\n",
    "# azdias_12.columns.values"
   ]
  },
  {
   "cell_type": "markdown",
   "metadata": {},
   "source": [
    "#### Discussion 1.2.1: Re-Encode Categorical Features\n",
    "\n",
    "(Double-click this cell and replace this text with your own text, reporting your findings and decisions regarding categorical features. Which ones did you keep, which did you drop, and what engineering steps did you perform?)"
   ]
  },
  {
   "cell_type": "markdown",
   "metadata": {},
   "source": [
    "#### Step 1.2.2: Engineer Mixed-Type Features\n",
    "\n",
    "There are a handful of features that are marked as \"mixed\" in the feature summary that require special treatment in order to be included in the analysis. There are two in particular that deserve attention; the handling of the rest are up to your own choices:\n",
    "- **PRAEGENDE_JUGENDJAHRE** combines information on three dimensions: generation by \n",
    "    * decade, movement (mainstream vs. avantgarde), and nation (east vs. west). \n",
    "    * While there aren't enough levels to disentangle east from west, you should create two new variables to capture the other two dimensions: an interval-type variable for decade, and a binary variable for movement.\n",
    "\n",
    "- **CAMEO_INTL_2015** combines information on two axes: wealth and life stage. Break up the two-digit codes by their 'tens'-place and 'ones'-place digits into two new ordinal variables (which, for the purposes of this project, is equivalent to just treating them as their raw numeric values).\n",
    "- If you decide to keep or engineer new features around the other mixed-type features, make sure you note your steps in the Discussion section.\n",
    "\n",
    "Be sure to check `Data_Dictionary.md` for the details needed to finish these tasks."
   ]
  },
  {
   "cell_type": "code",
   "execution_count": 15,
   "metadata": {},
   "outputs": [],
   "source": [
    "# feat_info[feat_info['type']=='mixed']"
   ]
  },
  {
   "cell_type": "code",
   "execution_count": 91,
   "metadata": {},
   "outputs": [],
   "source": [
    "normal_mixed_type_features = [\"LP_LEBENSPHASE_FEIN\", \"LP_LEBENSPHASE_GROB\", \"WOHNLAGE\", \"KBA05_BAUMAX\", \"PLZ8_BAUMAX\"]"
   ]
  },
  {
   "cell_type": "markdown",
   "metadata": {},
   "source": [
    "**PRAEGENDE_JUGENDJAHRE**\n",
    "\n",
    "* Dominating movement of person's youth (avantgarde vs. mainstream; east vs. west)\n",
    "    - -1: unknown\n",
    "    -  0: unknown\n",
    "    -  1: 40s - war years (Mainstream, E+W)\n",
    "    -  2: 40s - reconstruction years (Avantgarde, E+W)\n",
    "    -  3: 50s - economic miracle (Mainstream, E+W)\n",
    "    -  4: 50s - milk bar / Individualisation (Avantgarde, E+W)\n",
    "    -  5: 60s - economic miracle (Mainstream, E+W)\n",
    "    -  6: 60s - generation 68 / student protestors (Avantgarde, W)\n",
    "    -  7: 60s - opponents to the building of the Wall (Avantgarde, E)\n",
    "    -  8: 70s - family orientation (Mainstream, E+W)\n",
    "    -  9: 70s - peace movement (Avantgarde, E+W)\n",
    "    - 10: 80s - Generation Golf (Mainstream, W)\n",
    "    - 11: 80s - ecological awareness (Avantgarde, W)\n",
    "    - 12: 80s - FDJ / communist party youth organisation (Mainstream, E)\n",
    "    - 13: 80s - Swords into ploughshares (Avantgarde, E)\n",
    "    - 14: 90s - digital media kids (Mainstream, E+W)\n",
    "    - 15: 90s - ecological awareness (Avantgarde, E+W)"
   ]
  },
  {
   "cell_type": "code",
   "execution_count": 92,
   "metadata": {},
   "outputs": [],
   "source": [
    "# encode original feature of mixed type to two features of categorical type\n",
    "# 1 -> 40s; 2 -> 50s; 3 -> 60s; 4 -> 70s; 5 -> 80; 6 -> 90\n",
    "idx2decade = {1:1, 2:1, 3:2, 4:2, 5:3, 6:3, 7:3, 8:4, 9:4, 10:5, 11:5, 12:5, 13:5, 14:6, 15:6}\n",
    "# 1 -> Mainstream; 2 -> Avantgarde\n",
    "idx2movement = {1:1, 2:2, 3:1, 4:2, 5:1, 6:2, 7:2, 8:1, 9:2, 10:1, 11:2, 12:1, 13:2, 14:1, 15:2}"
   ]
  },
  {
   "cell_type": "code",
   "execution_count": 93,
   "metadata": {},
   "outputs": [],
   "source": [
    "def convert_to_decade(idx):\n",
    "    if np.isnan(idx):\n",
    "        return 99\n",
    "    return idx2decade[idx]\n",
    "\n",
    "def convert_to_movement(idx):\n",
    "    if np.isnan(idx):\n",
    "        return 99\n",
    "    return idx2movement[idx]"
   ]
  },
  {
   "cell_type": "code",
   "execution_count": 94,
   "metadata": {},
   "outputs": [],
   "source": [
    "def convert_single_column_to_one_hot_columns(dataframe, col_name, series=None, verbose=True):\n",
    "    \"\"\"\n",
    "    Convert a single column of the specified dataframe to one-hot columns. \n",
    "    \"\"\"\n",
    "    print(\"processing column:\", col_name)\n",
    "    if series is not None:\n",
    "        new_cols = convert_to_one_hot_columns(series, col_name)\n",
    "    else:\n",
    "        new_cols = convert_to_one_hot_columns(dataframe[col_name], col_name)\n",
    "    if verbose:\n",
    "        new_cols.head()\n",
    "    dataframe = pd.merge(dataframe, new_cols, left_index=True, right_index=True)\n",
    "#     dataframe = dataframe.drop(col_name, axis=1)\n",
    "    return dataframe"
   ]
  },
  {
   "cell_type": "code",
   "execution_count": 95,
   "metadata": {},
   "outputs": [],
   "source": [
    "# create a new PRAEGENDE_JUGENDJAHRE_DECADE feature\n",
    "converted_PRAEGENDE_JUGENDJAHRE_DECADE = azdias_12[\"PRAEGENDE_JUGENDJAHRE\"].map(convert_to_decade)"
   ]
  },
  {
   "cell_type": "code",
   "execution_count": 96,
   "metadata": {},
   "outputs": [
    {
     "name": "stdout",
     "output_type": "stream",
     "text": [
      "processing column: PRAEGENDE_JUGENDJAHRE_DECADE\n"
     ]
    }
   ],
   "source": [
    "# convert PRAEGENDE_JUGENDJAHRE_DECADE feature to one-hot features/columns\n",
    "updated_azdias_12 = convert_single_column_to_one_hot_columns(azdias_12, \"PRAEGENDE_JUGENDJAHRE_DECADE\", \\\n",
    "                                                              converted_PRAEGENDE_JUGENDJAHRE_DECADE)"
   ]
  },
  {
   "cell_type": "code",
   "execution_count": 16,
   "metadata": {},
   "outputs": [],
   "source": [
    "# print(updated_azdias_12.columns.values.shape)\n",
    "# updated_azdias_12.columns.values"
   ]
  },
  {
   "cell_type": "code",
   "execution_count": 17,
   "metadata": {},
   "outputs": [],
   "source": [
    "# updated_azdias_12.head()"
   ]
  },
  {
   "cell_type": "code",
   "execution_count": 99,
   "metadata": {},
   "outputs": [],
   "source": [
    "# create a new PRAEGENDE_JUGENDJAHRE_MOVEMENT feature\n",
    "converted_PRAEGENDE_JUGENDJAHRE_MOVEMENT = updated_azdias_12[\"PRAEGENDE_JUGENDJAHRE\"].map(convert_to_movement)"
   ]
  },
  {
   "cell_type": "code",
   "execution_count": 100,
   "metadata": {},
   "outputs": [
    {
     "name": "stdout",
     "output_type": "stream",
     "text": [
      "processing column: PRAEGENDE_JUGENDJAHRE_MOVEMENT\n"
     ]
    }
   ],
   "source": [
    "# convert converted_PRAEGENDE_JUGENDJAHRE_MOVEMENT feature to one-hot features/columns\n",
    "updated_azdias_12 = convert_single_column_to_one_hot_columns(updated_azdias_12, \"PRAEGENDE_JUGENDJAHRE_MOVEMENT\", \\\n",
    "                                                              converted_PRAEGENDE_JUGENDJAHRE_MOVEMENT)"
   ]
  },
  {
   "cell_type": "code",
   "execution_count": 101,
   "metadata": {},
   "outputs": [],
   "source": [
    "updated_azdias_12 = updated_azdias_12.drop(\"PRAEGENDE_JUGENDJAHRE\", axis=1)"
   ]
  },
  {
   "cell_type": "code",
   "execution_count": 18,
   "metadata": {},
   "outputs": [],
   "source": [
    "# print(updated_azdias_12.columns.values.shape)\n",
    "# updated_azdias_12.columns.values"
   ]
  },
  {
   "cell_type": "markdown",
   "metadata": {},
   "source": [
    "**CAMEO_INTL_2015**\n",
    "\n",
    "* German CAMEO: Wealth / Life Stage Typology, mapped to international code\n",
    "    - -1: unknown\n",
    "    - 11: Wealthy Households - Pre-Family Couples & Singles\n",
    "    - 12: Wealthy Households - Young Couples With Children\n",
    "    - 13: Wealthy Households - Families With School Age Children\n",
    "    - 14: Wealthy Households - Older Families &  Mature Couples\n",
    "    - 15: Wealthy Households - Elders In Retirement\n",
    "    - 21: Prosperous Households - Pre-Family Couples & Singles\n",
    "    - 22: Prosperous Households - Young Couples With Children\n",
    "    - 23: Prosperous Households - Families With School Age Children\n",
    "    - 24: Prosperous Households - Older Families & Mature Couples\n",
    "    - 25: Prosperous Households - Elders In Retirement\n",
    "    - 31: Comfortable Households - Pre-Family Couples & Singles\n",
    "    - 32: Comfortable Households - Young Couples With Children\n",
    "    - 33: Comfortable Households - Families With School Age Children\n",
    "    - 34: Comfortable Households - Older Families & Mature Couples\n",
    "    - 35: Comfortable Households - Elders In Retirement\n",
    "    - 41: Less Affluent Households - Pre-Family Couples & Singles\n",
    "    - 42: Less Affluent Households - Young Couples With Children\n",
    "    - 43: Less Affluent Households - Families With School Age Children\n",
    "    - 44: Less Affluent Households - Older Families & Mature Couples\n",
    "    - 45: Less Affluent Households - Elders In Retirement\n",
    "    - 51: Poorer Households - Pre-Family Couples & Singles\n",
    "    - 52: Poorer Households - Young Couples With Children\n",
    "    - 53: Poorer Households - Families With School Age Children\n",
    "    - 54: Poorer Households - Older Families & Mature Couples\n",
    "    - 55: Poorer Households - Elders In Retirement\n",
    "    - XX: unknown"
   ]
  },
  {
   "cell_type": "code",
   "execution_count": 103,
   "metadata": {},
   "outputs": [
    {
     "data": {
      "text/plain": [
       "0    NaN\n",
       "1     51\n",
       "2     24\n",
       "3     12\n",
       "4     43\n",
       "Name: CAMEO_INTL_2015, dtype: object"
      ]
     },
     "execution_count": 103,
     "metadata": {},
     "output_type": "execute_result"
    }
   ],
   "source": [
    "updated_azdias_12[\"CAMEO_INTL_2015\"].head()"
   ]
  },
  {
   "cell_type": "code",
   "execution_count": 104,
   "metadata": {},
   "outputs": [],
   "source": [
    "def convert_to_wealth(idx):\n",
    "    if idx == 'XX':\n",
    "        return -1\n",
    "    if isinstance(idx, str):\n",
    "        idx = int(idx) \n",
    "    if np.isnan(idx):\n",
    "        return 99\n",
    "    val = int(idx)\n",
    "    wealth = val // 10\n",
    "    return wealth\n",
    "\n",
    "def convert_to_life_stage(idx):\n",
    "    if idx == 'XX':\n",
    "        return -1\n",
    "    if isinstance(idx, str):\n",
    "        idx = int(idx) \n",
    "    if np.isnan(idx):\n",
    "        return 99\n",
    "    val = int(idx)\n",
    "    life_stage = val % 10\n",
    "    return life_stage"
   ]
  },
  {
   "cell_type": "code",
   "execution_count": 105,
   "metadata": {},
   "outputs": [],
   "source": [
    "CAMEO_INTL_2015_WEALTH = updated_azdias_12[\"CAMEO_INTL_2015\"].map(convert_to_wealth)"
   ]
  },
  {
   "cell_type": "code",
   "execution_count": 106,
   "metadata": {},
   "outputs": [
    {
     "name": "stdout",
     "output_type": "stream",
     "text": [
      "processing column: CAMEO_INTL_2015_WEALTH\n"
     ]
    }
   ],
   "source": [
    "new_azdias_12 = convert_single_column_to_one_hot_columns(updated_azdias_12, \"CAMEO_INTL_2015_WEALTH\", \\\n",
    "                                                              CAMEO_INTL_2015_WEALTH)"
   ]
  },
  {
   "cell_type": "code",
   "execution_count": 19,
   "metadata": {},
   "outputs": [],
   "source": [
    "# print(new_azdias_12.columns.values.shape)\n",
    "# new_azdias_12.columns.values"
   ]
  },
  {
   "cell_type": "code",
   "execution_count": 108,
   "metadata": {},
   "outputs": [],
   "source": [
    "CAMEO_INTL_2015_LIFE = updated_azdias_12[\"CAMEO_INTL_2015\"].map(convert_to_life_stage)"
   ]
  },
  {
   "cell_type": "code",
   "execution_count": 109,
   "metadata": {},
   "outputs": [
    {
     "name": "stdout",
     "output_type": "stream",
     "text": [
      "processing column: CAMEO_INTL_2015_LIFE\n"
     ]
    }
   ],
   "source": [
    "new_azdias_12 = convert_single_column_to_one_hot_columns(new_azdias_12, \"CAMEO_INTL_2015_LIFE\", \\\n",
    "                                                              CAMEO_INTL_2015_LIFE)"
   ]
  },
  {
   "cell_type": "code",
   "execution_count": 20,
   "metadata": {},
   "outputs": [],
   "source": [
    "# print(new_azdias_12.columns.values.shape)\n",
    "# new_azdias_12.columns.values"
   ]
  },
  {
   "cell_type": "code",
   "execution_count": 111,
   "metadata": {},
   "outputs": [],
   "source": [
    "new_azdias_12 = new_azdias_12.drop(\"CAMEO_INTL_2015\", axis=1)"
   ]
  },
  {
   "cell_type": "code",
   "execution_count": 21,
   "metadata": {},
   "outputs": [],
   "source": [
    "# new_azdias_12.head()"
   ]
  },
  {
   "cell_type": "markdown",
   "metadata": {},
   "source": [
    "**Engineer normal Mixed-Type Features**"
   ]
  },
  {
   "cell_type": "code",
   "execution_count": 113,
   "metadata": {},
   "outputs": [],
   "source": [
    "normal_mixed_type_features = [\"LP_LEBENSPHASE_FEIN\", \"LP_LEBENSPHASE_GROB\", \"WOHNLAGE\", \"KBA05_BAUMAX\", \"PLZ8_BAUMAX\"]"
   ]
  },
  {
   "cell_type": "code",
   "execution_count": 114,
   "metadata": {},
   "outputs": [
    {
     "name": "stdout",
     "output_type": "stream",
     "text": [
      "processing column: LP_LEBENSPHASE_FEIN\n",
      "processing column: LP_LEBENSPHASE_GROB\n",
      "processing column: WOHNLAGE\n",
      "processing column: PLZ8_BAUMAX\n"
     ]
    }
   ],
   "source": [
    "# We simply treat normal mixed-type features as categorical features\n",
    "new_azdias_12 = convert_dataframe_nan_to_integer(new_azdias_12, normal_mixed_type_features, \\\n",
    "                                             convert_categorical_feature_nan_to_integer)"
   ]
  },
  {
   "cell_type": "code",
   "execution_count": 115,
   "metadata": {},
   "outputs": [
    {
     "name": "stdout",
     "output_type": "stream",
     "text": [
      "processing column: LP_LEBENSPHASE_FEIN\n",
      "processing column: LP_LEBENSPHASE_GROB\n",
      "processing column: WOHNLAGE\n",
      "processing column: PLZ8_BAUMAX\n"
     ]
    }
   ],
   "source": [
    "new_azdias_12 = convert_dataframe_columns_to_one_hot_columns(new_azdias_12, normal_mixed_type_features)"
   ]
  },
  {
   "cell_type": "code",
   "execution_count": 22,
   "metadata": {},
   "outputs": [],
   "source": [
    "# print(new_azdias_12.columns.values.shape)\n",
    "# new_azdias_12.columns.values"
   ]
  },
  {
   "cell_type": "code",
   "execution_count": 118,
   "metadata": {},
   "outputs": [
    {
     "data": {
      "text/plain": [
       "542565"
      ]
     },
     "execution_count": 118,
     "metadata": {},
     "output_type": "execute_result"
    }
   ],
   "source": [
    "new_azdias_12.isnull().sum().sum()"
   ]
  },
  {
   "cell_type": "code",
   "execution_count": 119,
   "metadata": {},
   "outputs": [
    {
     "data": {
      "text/html": [
       "<div>\n",
       "<style scoped>\n",
       "    .dataframe tbody tr th:only-of-type {\n",
       "        vertical-align: middle;\n",
       "    }\n",
       "\n",
       "    .dataframe tbody tr th {\n",
       "        vertical-align: top;\n",
       "    }\n",
       "\n",
       "    .dataframe thead th {\n",
       "        text-align: right;\n",
       "    }\n",
       "</style>\n",
       "<table border=\"1\" class=\"dataframe\">\n",
       "  <thead>\n",
       "    <tr style=\"text-align: right;\">\n",
       "      <th></th>\n",
       "      <th>attribute</th>\n",
       "      <th>information_level</th>\n",
       "      <th>type</th>\n",
       "      <th>missing_or_unknown</th>\n",
       "    </tr>\n",
       "  </thead>\n",
       "  <tbody>\n",
       "    <tr>\n",
       "      <th>50</th>\n",
       "      <td>ANZ_HAUSHALTE_AKTIV</td>\n",
       "      <td>building</td>\n",
       "      <td>numeric</td>\n",
       "      <td>[0]</td>\n",
       "    </tr>\n",
       "  </tbody>\n",
       "</table>\n",
       "</div>"
      ],
      "text/plain": [
       "              attribute information_level     type missing_or_unknown\n",
       "50  ANZ_HAUSHALTE_AKTIV          building  numeric                [0]"
      ]
     },
     "execution_count": 119,
     "metadata": {},
     "output_type": "execute_result"
    }
   ],
   "source": [
    "feat_info[feat_info['attribute'] == \"ANZ_HAUSHALTE_AKTIV\"]"
   ]
  },
  {
   "cell_type": "markdown",
   "metadata": {},
   "source": [
    "#### Discussion 1.2.2: Engineer Mixed-Type Features\n",
    "\n",
    "(Double-click this cell and replace this text with your own text, reporting your findings and decisions regarding mixed-value features. Which ones did you keep, which did you drop, and what engineering steps did you perform?)"
   ]
  },
  {
   "cell_type": "markdown",
   "metadata": {},
   "source": [
    "#### Step 1.2.3: Complete Feature Selection\n",
    "\n",
    "In order to finish this step up, you need to make sure that your data frame now only has the columns that you want to keep. \n",
    "\n",
    "To summarize, the dataframe should consist of the following:\n",
    "- All numeric, interval, and ordinal type columns from the original dataset.\n",
    "- Binary categorical features (all numerically-encoded).\n",
    "- Engineered features from other multi-level categorical features and mixed features.\n",
    "\n",
    "Make sure that for any new columns that you have engineered, that you've excluded the original columns from the final dataset. Otherwise, their values will interfere with the analysis later on the project. For example, you should not keep \"PRAEGENDE_JUGENDJAHRE\", since its values won't be useful for the algorithm: only the values derived from it in the engineered features you created should be retained. As a reminder, your data should only be from **the subset with few or no missing values**."
   ]
  },
  {
   "cell_type": "code",
   "execution_count": 120,
   "metadata": {},
   "outputs": [],
   "source": [
    "# If there are other re-engineering tasks you need to perform, make sure you\n",
    "# take care of them here. (Dealing with missing data will come in step 2.1.)\n",
    "azdias_13 = new_azdias_12.fillna(0)"
   ]
  },
  {
   "cell_type": "code",
   "execution_count": 121,
   "metadata": {},
   "outputs": [
    {
     "data": {
      "text/plain": [
       "0"
      ]
     },
     "execution_count": 121,
     "metadata": {},
     "output_type": "execute_result"
    }
   ],
   "source": [
    "azdias_13.isnull().sum().sum()"
   ]
  },
  {
   "cell_type": "code",
   "execution_count": 122,
   "metadata": {},
   "outputs": [
    {
     "data": {
      "text/plain": [
       "(891221, 253)"
      ]
     },
     "execution_count": 122,
     "metadata": {},
     "output_type": "execute_result"
    }
   ],
   "source": [
    "azdias_13.shape"
   ]
  },
  {
   "cell_type": "code",
   "execution_count": null,
   "metadata": {},
   "outputs": [],
   "source": [
    "# Do whatever you need to in order to ensure that the dataframe only contains\n",
    "# the columns that should be passed to the algorithm functions."
   ]
  },
  {
   "cell_type": "markdown",
   "metadata": {},
   "source": [
    "### Step 1.3: Create a Cleaning Function\n",
    "\n",
    "Even though you've finished cleaning up the general population demographics data, it's important to look ahead to the future and realize that you'll need to perform the same cleaning steps on the customer demographics data. In this substep, complete the function below to execute the main feature selection, encoding, and re-engineering steps you performed above. Then, when it comes to looking at the customer data in Step 3, you can just run this function on that DataFrame to get the trimmed dataset in a single step."
   ]
  },
  {
   "cell_type": "code",
   "execution_count": 123,
   "metadata": {},
   "outputs": [],
   "source": [
    "def clean_data(df):\n",
    "    \"\"\"\n",
    "    Perform feature trimming, re-encoding, and engineering for demographics\n",
    "    data\n",
    "    \n",
    "    INPUT: Demographics DataFrame\n",
    "    OUTPUT: Trimmed and cleaned demographics DataFrame\n",
    "    \"\"\"\n",
    "    azdias = df.copy()\n",
    "    \n",
    "    # Put in code here to execute all main cleaning steps:\n",
    "    \n",
    "    ##\n",
    "    ## convert missing value codes into NaNs, ...\n",
    "    ##\n",
    "    nan_values_map = get_features_nan_values()\n",
    "    azdias = convert_missing_unknown_values_to_nan(azdias, nan_values_map)\n",
    "    \n",
    "    ##\n",
    "    ## remove selected columns and rows, ...\n",
    "    ##\n",
    "    missing_values_counts = get_missing_values_counts(azdias, nan_values_map)\n",
    "    total_row_num = updated_azdias.shape[0]\n",
    "    threshold = 0.3\n",
    "    column_outliers = get_column_outliers(missing_values_counts, total_row_num, threshold)\n",
    "    azdias = azdias.drop(column_outliers, axis=1)\n",
    "    \n",
    "    ##\n",
    "    ## select, re-encode, and engineer column values.\n",
    "    ##\n",
    "    \n",
    "    ### handle categorical features\n",
    "\n",
    "    categorical_feature_names = feat_info[feat_info['type']=='categorical']['attribute']\n",
    "    categorical_feature_names_list = list(categorical_feature_names.values)\n",
    "\n",
    "    # delete CAMEO_DEU_2015 from the list\n",
    "    del categorical_feature_names_list[-1]\n",
    "    azdias = azdias.drop(\"CAMEO_DEU_2015\", axis=1)\n",
    "    \n",
    "    azdias = convert_OST_WEST_KZ(azdias)\n",
    "    azdias = convert_dataframe_nan_to_integer(azdias, categorical_feature_names_list, \\\n",
    "                                                 convert_categorical_feature_nan_to_integer)\n",
    "    azdias = convert_dataframe_columns_to_one_hot_columns(azdias, categorical_feature_names_list)\n",
    "\n",
    "    ### handle ordinal features\n",
    "\n",
    "    ordinal_feature_names = feat_info[feat_info['type']=='ordinal']['attribute']\n",
    "    ordinal_feature_names_list = list(ordinal_feature_names.values)\n",
    "\n",
    "    azdias = convert_dataframe_nan_to_integer(azdias, ordinal_feature_names_list, \\\n",
    "                                                 convert_ordinal_feature_nan_to_integer)\n",
    "\n",
    "\n",
    "    ### handle mixed-type features                                            \n",
    "\n",
    "    ## handle RAEGENDE_JUGENDJAHRE\n",
    "\n",
    "    # create a new PRAEGENDE_JUGENDJAHRE_DECADE feature\n",
    "    converted_PRAEGENDE_JUGENDJAHRE_DECADE = azdias[\"PRAEGENDE_JUGENDJAHRE\"].map(convert_to_decade)\n",
    "\n",
    "    # convert PRAEGENDE_JUGENDJAHRE_DECADE feature to one-hot features/columns\n",
    "    azdias = convert_single_column_to_one_hot_columns(azdias, \"PRAEGENDE_JUGENDJAHRE_DECADE\", \\\n",
    "                                                                  converted_PRAEGENDE_JUGENDJAHRE_DECADE)\n",
    "\n",
    "    # create a new PRAEGENDE_JUGENDJAHRE_MOVEMENT feature\n",
    "    converted_PRAEGENDE_JUGENDJAHRE_MOVEMENT = azdias[\"PRAEGENDE_JUGENDJAHRE\"].map(convert_to_movement)                                                        \n",
    "    # convert converted_PRAEGENDE_JUGENDJAHRE_MOVEMENT feature to one-hot features/columns\n",
    "    azdias = convert_single_column_to_one_hot_columns(azdias, \"PRAEGENDE_JUGENDJAHRE_MOVEMENT\", \\\n",
    "                                                                  converted_PRAEGENDE_JUGENDJAHRE_MOVEMENT)   \n",
    "    azdias = azdias.drop(\"PRAEGENDE_JUGENDJAHRE\", axis=1)\n",
    "\n",
    "    ## handle CAMEO_INTL_2015\n",
    "\n",
    "    CAMEO_INTL_2015_WEALTH = azdias[\"CAMEO_INTL_2015\"].map(convert_to_wealth)\n",
    "    azdias = convert_single_column_to_one_hot_columns(azdias, \"CAMEO_INTL_2015_WEALTH\", \\\n",
    "                                                                  CAMEO_INTL_2015_WEALTH)\n",
    "    \n",
    "    CAMEO_INTL_2015_LIFE = azdias[\"CAMEO_INTL_2015\"].map(convert_to_life_stage)\n",
    "    azdias = convert_single_column_to_one_hot_columns(azdias, \"CAMEO_INTL_2015_LIFE\", \\\n",
    "                                                                  CAMEO_INTL_2015_LIFE)\n",
    "    azdias = azdias.drop(\"CAMEO_INTL_2015\", axis=1)  \n",
    "\n",
    "    ## handle normal mixed-type features\n",
    "\n",
    "    normal_mixed_type_features = [\"LP_LEBENSPHASE_FEIN\", \"LP_LEBENSPHASE_GROB\", \"WOHNLAGE\", \\\n",
    "                                  \"KBA05_BAUMAX\", \"PLZ8_BAUMAX\"]\n",
    "    azdias = convert_dataframe_nan_to_integer(azdias, normal_mixed_type_features, \\\n",
    "                                                 convert_categorical_feature_nan_to_integer)\n",
    "    azdias = convert_dataframe_columns_to_one_hot_columns(azdias, normal_mixed_type_features)\n",
    "\n",
    "    ## \n",
    "    azdias = azdias.fillna(0)\n",
    "\n",
    "    # Return the cleaned dataframe.\n",
    "    return azdias\n",
    "    "
   ]
  },
  {
   "cell_type": "markdown",
   "metadata": {},
   "source": [
    "## Step 2: Feature Transformation\n",
    "\n",
    "### Step 2.1: Apply Feature Scaling\n",
    "\n",
    "Before we apply dimensionality reduction techniques to the data, we need to perform feature scaling so that the principal component vectors are not influenced by the natural differences in scale for features. Starting from this part of the project, you'll want to keep an eye on the [API reference page for sklearn](http://scikit-learn.org/stable/modules/classes.html) to help you navigate to all of the classes and functions that you'll need. In this substep, you'll need to check the following:\n",
    "\n",
    "- sklearn requires that data **not have missing values** in order for its estimators to work properly. So, before applying the scaler to your data, make sure that you've cleaned the DataFrame of the remaining missing values before applying your scaler. This can be as simple as just removing all data points with missing data, or applying an [Imputer](http://scikit-learn.org/stable/modules/generated/sklearn.preprocessing.Imputer.html) to replace all missing values. You might also try a more complicated procedure where you temporarily remove missing values in order to compute the scaling parameters before re-introducing those missing values and applying imputation. \n",
    "    * Think about how much missing data you have and what possible effects each approach might have on your analysis, and justify your decision in the discussion section below.\n",
    "- For the actual scaling function, a [StandardScaler](http://scikit-learn.org/stable/modules/generated/sklearn.preprocessing.StandardScaler.html) instance is suggested, scaling each feature to mean 0 and standard deviation 1.\n",
    "- For these classes, you can make use of the `.fit_transform()` method to both fit a procedure to the data as well as apply the transformation to the data at the same time. Don't forget to keep the fit sklearn objects handy, since you'll be applying them to the customer demographics data towards the end of the project."
   ]
  },
  {
   "cell_type": "code",
   "execution_count": 124,
   "metadata": {},
   "outputs": [
    {
     "data": {
      "text/plain": [
       "0"
      ]
     },
     "execution_count": 124,
     "metadata": {},
     "output_type": "execute_result"
    }
   ],
   "source": [
    "# If you've not yet cleaned the dataset of all NaN values, then investigate and\n",
    "# do that now.\n",
    "azdias_13.isnull().sum().sum()"
   ]
  },
  {
   "cell_type": "code",
   "execution_count": 23,
   "metadata": {},
   "outputs": [],
   "source": [
    "# azdias_13.head()"
   ]
  },
  {
   "cell_type": "code",
   "execution_count": 126,
   "metadata": {},
   "outputs": [],
   "source": [
    "matrix = azdias_13.values"
   ]
  },
  {
   "cell_type": "code",
   "execution_count": 127,
   "metadata": {},
   "outputs": [
    {
     "data": {
      "text/plain": [
       "(891221, 253)"
      ]
     },
     "execution_count": 127,
     "metadata": {},
     "output_type": "execute_result"
    }
   ],
   "source": [
    "azdias_13.shape"
   ]
  },
  {
   "cell_type": "code",
   "execution_count": 129,
   "metadata": {},
   "outputs": [
    {
     "name": "stdout",
     "output_type": "stream",
     "text": [
      "StandardScaler(copy=True, with_mean=True, with_std=True)\n",
      "[2.74507109e+00 3.07452809e+00 2.82103878e+00 3.40110590e+00\n",
      " 3.03332843e+00 2.87416701e+00 3.07512054e+00 1.79210207e+00\n",
      " 3.39555845e+00 3.94585967e+00 4.27272921e+00 4.24060923e+00\n",
      " 4.00159669e+00 4.02370905e+00 4.35908602e+00 4.48140472e+00\n",
      " 4.02501400e+00 3.91013901e+00 4.76322259e+00 4.66755047e+00\n",
      " 4.44500747e+00 4.25607565e+00 3.66178423e+00 1.58515901e+00\n",
      " 3.81835706e-03 4.10003916e+00 3.29245384e+00 7.17408252e+00\n",
      " 7.42110094e+00 3.62222165e-02 2.68493112e+00 1.78494511e+03\n",
      " 1.12114055e+00 9.26659044e-01 3.81501334e-01 1.10564046e-01\n",
      " 2.53646851e+00 3.61103812e+00 3.41966246e+00 3.96578739e+00\n",
      " 3.24303399e+00 2.06301692e+00 2.37060617e+00 2.67854662e+00\n",
      " 3.50157481e+00 5.46134487e+02 1.82800114e+00 2.30481665e+00\n",
      " 1.25610932e+00 4.77023095e-01 3.00975740e+00 2.80831915e+00\n",
      " 2.71143297e+00 4.60648481e+00 2.62623076e+00 4.77901665e-01\n",
      " 5.22098335e-01 1.10936569e-01 1.66956344e-01 1.75544562e-01\n",
      " 2.36712331e-01 1.31702462e-01 1.72701272e-01 5.44646053e-03\n",
      " 2.23930989e-01 1.24398999e-01 5.98661836e-02 1.46568584e-01\n",
      " 1.19427168e-01 3.25808077e-01 6.01422094e-02 5.24022661e-02\n",
      " 6.28429985e-02 7.15535204e-02 1.34788117e-01 3.04503597e-02\n",
      " 4.81990438e-02 9.87880672e-02 6.80123112e-02 1.22446621e-01\n",
      " 8.94727570e-02 1.55455269e-01 5.44646053e-03 8.03387712e-01\n",
      " 1.96612288e-01 4.78421177e-01 1.17036066e-01 5.56315437e-03\n",
      " 1.38046568e-02 1.33749093e-02 1.01231905e-02 2.32602239e-02\n",
      " 2.58431971e-02 1.25086819e-02 1.54746129e-01 5.80316218e-02\n",
      " 8.72869917e-02 4.78421177e-01 1.17036066e-01 3.27427204e-02\n",
      " 5.92266116e-02 2.25286433e-01 8.72869917e-02 2.46038861e-01\n",
      " 1.32667430e-01 8.31499707e-02 8.78760711e-02 8.35853284e-02\n",
      " 3.46872437e-02 1.12867628e-02 2.21134825e-02 1.60721078e-01\n",
      " 1.32427310e-01 5.44646053e-03 3.78706292e-01 2.54611370e-01\n",
      " 4.59740064e-02 1.82834561e-01 1.32427310e-01 5.44646053e-03\n",
      " 7.67581778e-01 7.34026689e-02 3.74800414e-02 1.21535511e-01\n",
      " 1.43154167e-01 2.85856146e-01 2.32785134e-01 2.13436398e-01\n",
      " 1.24768155e-01 9.09801273e-01 7.72872273e-03 8.24700046e-02\n",
      " 4.27843374e-01 4.47388470e-01 1.24768155e-01 1.38710825e-01\n",
      " 3.72186023e-02 4.09443898e-01 2.35738386e-01 9.53254019e-02\n",
      " 8.35628873e-02 5.16667583e-01 5.53734708e-03 2.00475527e-01\n",
      " 1.00985053e-03 1.12205615e-06 7.04651259e-04 1.71086633e-01\n",
      " 1.04517286e-01 7.06365761e-01 1.89116953e-01 1.04517286e-01\n",
      " 4.06318971e-02 9.33898550e-02 9.73709102e-02 1.16595098e-01\n",
      " 6.20609254e-02 1.18796572e-01 8.74452016e-02 1.50850350e-01\n",
      " 1.21380668e-01 1.11478522e-01 3.22714568e-02 8.48790592e-02\n",
      " 1.30246033e-01 2.01474157e-01 1.70294461e-01 2.59468751e-01\n",
      " 1.21366081e-01 6.82021631e-01 1.96612288e-01 1.21366081e-01\n",
      " 1.34021752e-01 2.13966008e-01 7.65163747e-02 2.13145785e-01\n",
      " 2.50871557e-01 1.11478522e-01 2.74964347e-01 8.67349400e-02\n",
      " 1.34302266e-01 2.61188863e-01 1.31331062e-01 1.11478522e-01\n",
      " 7.03158925e-02 4.42471620e-02 2.24242921e-02 1.97425779e-02\n",
      " 6.23212424e-02 5.11814690e-02 2.97434643e-02 3.41946610e-02\n",
      " 1.46607856e-02 2.89367059e-02 2.99701196e-02 2.61439082e-02\n",
      " 2.92688346e-02 1.96685222e-02 2.25106904e-02 1.62316642e-02\n",
      " 6.60666658e-03 8.04289845e-03 2.18621419e-02 1.92230659e-02\n",
      " 1.43241688e-02 8.10573359e-03 1.03128180e-02 1.35667809e-02\n",
      " 1.16357222e-02 4.02144923e-03 1.62417627e-02 1.37608966e-02\n",
      " 2.98208862e-02 2.50902975e-02 2.69147608e-02 1.91927704e-02\n",
      " 6.80639258e-03 1.46697620e-02 1.53486060e-02 1.17871998e-02\n",
      " 2.07860901e-02 1.56122892e-02 1.81571125e-02 1.69991506e-02\n",
      " 1.09548586e-01 1.56729924e-01 1.77440837e-01 1.29736620e-01\n",
      " 6.10881027e-02 5.57347729e-02 3.27427204e-02 2.52025031e-02\n",
      " 3.40241085e-02 5.49111836e-02 4.61075311e-02 3.68247606e-02\n",
      " 8.33418423e-02 1.06115094e-01 7.79829021e-03 4.92784618e-02\n",
      " 1.12627508e-01 2.80198739e-01 1.52569340e-01 8.34203862e-02\n",
      " 1.89984302e-01 1.96056870e-02 1.04517286e-01 5.60523147e-01\n",
      " 7.90006070e-02 5.69241524e-02 6.36026305e-02 1.09213091e-01\n",
      " 1.30736372e-01]\n",
      "[1.06218846e+00 1.74518416e+00 2.14548665e+00 1.74803676e+00\n",
      " 2.33968123e+00 2.21036697e+00 1.83127839e+00 1.61051529e+00\n",
      " 2.10484692e+00 3.78910806e+00 3.67061132e+00 4.02954006e+00\n",
      " 3.45045138e+00 4.31702465e+00 4.09183412e+00 3.26724020e+00\n",
      " 3.62451217e+00 2.49736417e+00 3.35178591e+00 3.22457826e+00\n",
      " 3.43142726e+00 3.13338040e+00 2.91602006e+00 1.45165797e+00\n",
      " 4.35134061e-03 3.13000233e+00 6.32350398e+00 9.39900406e+00\n",
      " 2.25137708e+02 9.37261066e-02 3.43298455e+00 3.71870958e+05\n",
      " 2.46770700e+00 1.97151236e+00 1.20915776e+00 5.63900930e-01\n",
      " 3.70330588e+00 6.76622182e+00 4.94019464e+00 6.58207765e+00\n",
      " 2.86465486e+00 2.81256708e+00 3.73481521e+00 2.37652626e+00\n",
      " 7.14294775e+00 1.42074601e+05 2.02410790e+00 2.37886766e+00\n",
      " 1.61189093e+00 7.87713418e-01 3.24273009e+00 3.25538465e+00\n",
      " 2.57872761e+00 8.57757804e+00 3.26175478e+00 2.49511664e-01\n",
      " 2.49511664e-01 9.86296467e-02 1.39081923e-01 1.44728669e-01\n",
      " 1.80679603e-01 1.14356924e-01 1.42875542e-01 5.41679660e-03\n",
      " 1.73785901e-01 1.08923888e-01 5.62822236e-02 1.25086234e-01\n",
      " 1.05164319e-01 2.19657174e-01 5.65251240e-02 4.96562686e-02\n",
      " 5.88937561e-02 6.64336141e-02 1.16620280e-01 2.95231353e-02\n",
      " 4.58758960e-02 8.90289849e-02 6.33866367e-02 1.07453446e-01\n",
      " 8.14673828e-02 1.31288928e-01 5.41679660e-03 1.57955896e-01\n",
      " 1.57955896e-01 2.49534354e-01 1.03338625e-01 5.53220568e-03\n",
      " 1.36140882e-02 1.31960211e-02 1.00207116e-02 2.27191859e-02\n",
      " 2.51753263e-02 1.23522148e-02 1.30799765e-01 5.46639527e-02\n",
      " 7.96679728e-02 2.49534354e-01 1.03338625e-01 3.16706346e-02\n",
      " 5.57188201e-02 1.74532456e-01 7.96679728e-02 1.85503740e-01\n",
      " 1.15066783e-01 7.62360530e-02 8.01538673e-02 7.65988213e-02\n",
      " 3.34840388e-02 1.11593718e-02 2.16244764e-02 1.34889813e-01\n",
      " 1.14890318e-01 5.41679660e-03 2.35287836e-01 1.89784420e-01\n",
      " 4.38603972e-02 1.49406084e-01 1.14890318e-01 5.41679660e-03\n",
      " 1.78399992e-01 6.80147171e-02 3.60752879e-02 1.06764631e-01\n",
      " 1.22661052e-01 2.04142410e-01 1.78596215e-01 1.67881302e-01\n",
      " 1.09201063e-01 8.20629169e-02 7.66898957e-03 7.56687030e-02\n",
      " 2.44793421e-01 2.47232027e-01 1.09201063e-01 1.19470132e-01\n",
      " 3.58333780e-02 2.41799592e-01 1.80165799e-01 8.62384696e-02\n",
      " 7.65801312e-02 2.49722192e-01 5.50668487e-03 1.60285090e-01\n",
      " 1.00883073e-03 1.12205489e-06 7.04154726e-04 1.41815997e-01\n",
      " 9.35934228e-02 2.07413173e-01 1.53351731e-01 9.35934228e-02\n",
      " 3.89809461e-02 8.46681900e-02 8.78898161e-02 1.03000681e-01\n",
      " 5.82093669e-02 1.04683947e-01 7.97985383e-02 1.28094522e-01\n",
      " 1.06647401e-01 9.90510613e-02 3.12300099e-02 7.76746045e-02\n",
      " 1.13282004e-01 1.60882321e-01 1.41294258e-01 1.92144718e-01\n",
      " 1.06636355e-01 2.16868126e-01 1.57955896e-01 1.06636355e-01\n",
      " 1.16059922e-01 1.68184556e-01 7.06616191e-02 1.67714660e-01\n",
      " 1.87935019e-01 9.90510613e-02 1.99358955e-01 7.92119902e-02\n",
      " 1.16265168e-01 1.92969241e-01 1.14083214e-01 9.90510613e-02\n",
      " 6.53715677e-02 4.22893507e-02 2.19214432e-02 1.93528085e-02\n",
      " 5.84373052e-02 4.85619262e-02 2.88587906e-02 3.30253862e-02\n",
      " 1.44458470e-02 2.80993730e-02 2.90719116e-02 2.54604043e-02\n",
      " 2.84121699e-02 1.92816714e-02 2.20039592e-02 1.59681973e-02\n",
      " 6.56301854e-03 7.97821024e-03 2.13841887e-02 1.88535396e-02\n",
      " 1.41189869e-02 8.04003068e-03 1.02064638e-02 1.33827233e-02\n",
      " 1.15003322e-02 4.00527717e-03 1.59779678e-02 1.35715343e-02\n",
      " 2.89316009e-02 2.44607744e-02 2.61903564e-02 1.88244079e-02\n",
      " 6.76006560e-03 1.44545601e-02 1.51130263e-02 1.16482617e-02\n",
      " 2.03540286e-02 1.53685456e-02 1.78274318e-02 1.67101795e-02\n",
      " 9.75476930e-02 1.32165655e-01 1.45955586e-01 1.12905029e-01\n",
      " 5.73563464e-02 5.26284080e-02 3.16706346e-02 2.45673369e-02\n",
      " 3.28664685e-02 5.18959456e-02 4.39816267e-02 3.54686976e-02\n",
      " 7.63959796e-02 9.48546807e-02 7.73747688e-03 4.68500950e-02\n",
      " 9.99425522e-02 2.01687405e-01 1.29291937e-01 7.64614254e-02\n",
      " 1.53890267e-01 1.92213041e-02 9.35934228e-02 2.46336949e-01\n",
      " 7.27595111e-02 5.36837932e-02 5.95573359e-02 9.72855916e-02\n",
      " 1.13644373e-01]\n"
     ]
    }
   ],
   "source": [
    "# Apply feature scaling to the general population demographics data.\n",
    "scaler = StandardScaler()\n",
    "print(scaler.fit(matrix))\n",
    "print(scaler.mean_)\n",
    "print(scaler.var_)"
   ]
  },
  {
   "cell_type": "code",
   "execution_count": 131,
   "metadata": {},
   "outputs": [],
   "source": [
    "transformed_matrix = scaler.transform(matrix)"
   ]
  },
  {
   "cell_type": "code",
   "execution_count": 132,
   "metadata": {},
   "outputs": [
    {
     "data": {
      "text/plain": [
       "(891221, 253)"
      ]
     },
     "execution_count": 132,
     "metadata": {},
     "output_type": "execute_result"
    }
   ],
   "source": [
    "transformed_matrix.shape"
   ]
  },
  {
   "cell_type": "markdown",
   "metadata": {},
   "source": [
    "### Discussion 2.1: Apply Feature Scaling\n",
    "\n",
    "(Double-click this cell and replace this text with your own text, reporting your decisions regarding feature scaling.)"
   ]
  },
  {
   "cell_type": "markdown",
   "metadata": {},
   "source": [
    "### Step 2.2: Perform Dimensionality Reduction\n",
    "\n",
    "On your scaled data, you are now ready to apply dimensionality reduction techniques.\n",
    "\n",
    "- Use sklearn's [PCA](http://scikit-learn.org/stable/modules/generated/sklearn.decomposition.PCA.html) class to apply principal component analysis on the data, thus finding the vectors of maximal variance in the data. \n",
    "    - To start, you should not set any parameters (so all components are computed) or set a number of components that is at least half the number of features (so there's enough features to see the general trend in variability).\n",
    "    - Check out the ratio of variance explained by each principal component as well as the cumulative variance explained. Try plotting the cumulative or sequential values using matplotlib's [`plot()`](https://matplotlib.org/api/_as_gen/matplotlib.pyplot.plot.html) function. Based on what you find, select a value for the number of transformed features you'll retain for the clustering part of the project.\n",
    "    - Once you've made a choice for the number of components to keep, make sure you re-fit a PCA instance to perform the decided-on transformation."
   ]
  },
  {
   "cell_type": "code",
   "execution_count": 159,
   "metadata": {},
   "outputs": [
    {
     "data": {
      "text/plain": [
       "PCA(copy=True, iterated_power='auto', n_components=None, random_state=None,\n",
       "  svd_solver='auto', tol=0.0, whiten=False)"
      ]
     },
     "execution_count": 159,
     "metadata": {},
     "output_type": "execute_result"
    }
   ],
   "source": [
    "# Apply PCA to the data.\n",
    "\n",
    "from sklearn.decomposition import PCA\n",
    "\n",
    "pca = PCA()\n",
    "pca.fit(transformed_matrix)"
   ]
  },
  {
   "cell_type": "code",
   "execution_count": 160,
   "metadata": {},
   "outputs": [
    {
     "data": {
      "text/plain": [
       "(253, 253)"
      ]
     },
     "execution_count": 160,
     "metadata": {},
     "output_type": "execute_result"
    }
   ],
   "source": [
    "pca.components_.shape"
   ]
  },
  {
   "cell_type": "code",
   "execution_count": 161,
   "metadata": {},
   "outputs": [
    {
     "data": {
      "text/plain": [
       "array([1.20130239e-01, 5.68735628e-02, 4.48941140e-02, 2.82886750e-02,\n",
       "       2.46986512e-02, 2.05937023e-02, 1.97348397e-02, 1.77297731e-02,\n",
       "       1.73166876e-02, 1.60295529e-02, 1.55888677e-02, 1.41581816e-02,\n",
       "       1.36677320e-02, 1.16942873e-02, 1.03517870e-02, 1.00482178e-02,\n",
       "       9.76330995e-03, 9.52408506e-03, 9.18219707e-03, 9.00816502e-03,\n",
       "       8.74644537e-03, 8.49142011e-03, 8.34801491e-03, 8.25651688e-03,\n",
       "       8.17054097e-03, 7.99255308e-03, 7.49872358e-03, 7.44028027e-03,\n",
       "       7.27254929e-03, 6.63316847e-03, 6.51018533e-03, 6.27590206e-03,\n",
       "       6.13826446e-03, 5.99374067e-03, 5.86234623e-03, 5.68850895e-03,\n",
       "       5.55746133e-03, 5.40631027e-03, 5.35903046e-03, 5.20758847e-03,\n",
       "       5.13855955e-03, 5.07456849e-03, 5.00886935e-03, 4.95160308e-03,\n",
       "       4.82869576e-03, 4.80261597e-03, 4.78165342e-03, 4.77530795e-03,\n",
       "       4.69955184e-03, 4.64973693e-03, 4.58501157e-03, 4.53679703e-03,\n",
       "       4.51867858e-03, 4.46777851e-03, 4.44712626e-03, 4.40844459e-03,\n",
       "       4.38093152e-03, 4.35467145e-03, 4.32976136e-03, 4.32366937e-03,\n",
       "       4.30576403e-03, 4.29205302e-03, 4.25879363e-03, 4.24619057e-03,\n",
       "       4.21586363e-03, 4.18022932e-03, 4.16463196e-03, 4.15773864e-03,\n",
       "       4.14209717e-03, 4.11843606e-03, 4.10511520e-03, 4.09297929e-03,\n",
       "       4.06997313e-03, 4.05657580e-03, 4.04587465e-03, 4.03745753e-03,\n",
       "       4.03543810e-03, 4.02379888e-03, 4.01332280e-03, 4.00967249e-03,\n",
       "       4.00474921e-03, 4.00040251e-03, 3.99015525e-03, 3.97640393e-03,\n",
       "       3.96210826e-03, 3.95441321e-03, 3.95040136e-03, 3.94451126e-03,\n",
       "       3.92910304e-03, 3.91276713e-03, 3.88455811e-03, 3.87182890e-03,\n",
       "       3.84796410e-03, 3.77808568e-03, 3.76734724e-03, 3.71821681e-03,\n",
       "       3.71182967e-03, 3.69756899e-03, 3.64492790e-03, 3.59584694e-03,\n",
       "       3.54900662e-03, 3.53005328e-03, 3.50164744e-03, 3.44479126e-03,\n",
       "       3.40775214e-03, 3.39787697e-03, 3.38004064e-03, 3.23519543e-03,\n",
       "       3.20062930e-03, 3.16589474e-03, 3.14898025e-03, 3.05511602e-03,\n",
       "       2.98765113e-03, 2.93370889e-03, 2.84241581e-03, 2.80052298e-03,\n",
       "       2.72719070e-03, 2.58772809e-03, 2.55065454e-03, 2.42139430e-03,\n",
       "       2.40155460e-03, 2.37094177e-03, 2.33488454e-03, 2.26849456e-03,\n",
       "       2.21653992e-03, 2.12433745e-03, 2.07197875e-03, 2.05029566e-03,\n",
       "       1.97204350e-03, 1.91276855e-03, 1.91065601e-03, 1.86499262e-03,\n",
       "       1.77630940e-03, 1.74811547e-03, 1.68630203e-03, 1.63823906e-03,\n",
       "       1.61508423e-03, 1.51771603e-03, 1.49747859e-03, 1.46622036e-03,\n",
       "       1.40033840e-03, 1.36175112e-03, 1.28057881e-03, 1.25407497e-03,\n",
       "       1.17021677e-03, 1.11949676e-03, 1.05835151e-03, 1.01734073e-03,\n",
       "       9.96517775e-04, 9.49892069e-04, 9.30931475e-04, 9.06269186e-04,\n",
       "       8.70695072e-04, 8.47814136e-04, 8.12530455e-04, 7.76730906e-04,\n",
       "       7.41481549e-04, 7.08454403e-04, 6.96599825e-04, 6.62707044e-04,\n",
       "       6.48683640e-04, 6.06637834e-04, 5.96618669e-04, 5.78350624e-04,\n",
       "       5.68930144e-04, 5.53204982e-04, 5.42426089e-04, 5.31700143e-04,\n",
       "       4.75091783e-04, 4.54149539e-04, 4.51840495e-04, 4.34840395e-04,\n",
       "       3.92099636e-04, 3.80187940e-04, 3.55889575e-04, 3.36889770e-04,\n",
       "       3.15154553e-04, 3.03846909e-04, 3.00379366e-04, 2.81957321e-04,\n",
       "       2.77054050e-04, 2.55950914e-04, 2.51370126e-04, 2.45414795e-04,\n",
       "       2.27153510e-04, 1.52398327e-04, 1.49489101e-04, 1.36562381e-04,\n",
       "       1.21741633e-04, 1.00318123e-04, 9.53878382e-05, 7.01336180e-05,\n",
       "       2.04021479e-05, 6.33214099e-06, 2.76888648e-08, 4.73608362e-32,\n",
       "       2.95258800e-32, 2.22024894e-32, 1.89965763e-32, 1.69345435e-32,\n",
       "       1.50598980e-32, 1.48714443e-32, 1.21013970e-32, 1.11580707e-32,\n",
       "       9.82983660e-33, 8.35334523e-33, 7.17197315e-33, 6.60685560e-33,\n",
       "       5.65907858e-33, 5.64688043e-33, 5.26864539e-33, 4.97141431e-33,\n",
       "       4.58300233e-33, 4.30386076e-33, 4.20511914e-33, 3.47412108e-33,\n",
       "       3.38198673e-33, 3.23583569e-33, 3.21508387e-33, 3.02107335e-33,\n",
       "       2.96869154e-33, 2.51868323e-33, 2.42830750e-33, 2.21787472e-33,\n",
       "       2.21093305e-33, 2.19511134e-33, 1.91702843e-33, 1.89115105e-33,\n",
       "       1.65082251e-33, 1.38409779e-33, 1.15479919e-33, 1.02736936e-33,\n",
       "       9.20574128e-34, 8.60525011e-34, 8.51476270e-34, 8.46908501e-34,\n",
       "       7.50401690e-34, 6.99386063e-34, 6.99386063e-34, 6.99386063e-34,\n",
       "       6.99386063e-34, 6.99386063e-34, 6.99386063e-34, 5.70117555e-34,\n",
       "       4.52562450e-34, 2.93638821e-34, 2.60422634e-34, 2.58647169e-34,\n",
       "       2.21237303e-34, 1.43731052e-34, 5.22934335e-35, 3.88281517e-35,\n",
       "       6.82244776e-37])"
      ]
     },
     "execution_count": 161,
     "metadata": {},
     "output_type": "execute_result"
    }
   ],
   "source": [
    "pca.explained_variance_ratio_"
   ]
  },
  {
   "cell_type": "code",
   "execution_count": 162,
   "metadata": {},
   "outputs": [
    {
     "data": {
      "text/plain": [
       "array([5.20450149e+03, 3.58103185e+03, 3.18161532e+03, 2.52556918e+03,\n",
       "       2.35987818e+03, 2.15486557e+03, 2.10945258e+03, 1.99942241e+03,\n",
       "       1.97599289e+03, 1.90113812e+03, 1.87482291e+03, 1.78672085e+03,\n",
       "       1.75550146e+03, 1.62382733e+03, 1.52777933e+03, 1.50521136e+03,\n",
       "       1.48371848e+03, 1.46542838e+03, 1.43888562e+03, 1.42518464e+03,\n",
       "       1.40432866e+03, 1.38370379e+03, 1.37196987e+03, 1.36443045e+03,\n",
       "       1.35730789e+03, 1.34244262e+03, 1.30030921e+03, 1.29523214e+03,\n",
       "       1.28054930e+03, 1.22296346e+03, 1.21157316e+03, 1.18957285e+03,\n",
       "       1.17645620e+03, 1.16252403e+03, 1.14971103e+03, 1.13253645e+03,\n",
       "       1.11941518e+03, 1.10408739e+03, 1.09924900e+03, 1.08360573e+03,\n",
       "       1.07639994e+03, 1.06967667e+03, 1.06272970e+03, 1.05663716e+03,\n",
       "       1.04344098e+03, 1.04061935e+03, 1.03834581e+03, 1.03765661e+03,\n",
       "       1.02939295e+03, 1.02392267e+03, 1.01677108e+03, 1.01141093e+03,\n",
       "       1.00938929e+03, 1.00368812e+03, 1.00136567e+03, 9.97001150e+02,\n",
       "       9.93885143e+02, 9.90901905e+02, 9.88063705e+02, 9.87368356e+02,\n",
       "       9.85321771e+02, 9.83751721e+02, 9.79932732e+02, 9.78481698e+02,\n",
       "       9.74981204e+02, 9.70851978e+02, 9.69039054e+02, 9.68236743e+02,\n",
       "       9.66413766e+02, 9.63649566e+02, 9.62089867e+02, 9.60666707e+02,\n",
       "       9.57963004e+02, 9.56385018e+02, 9.55122724e+02, 9.54128678e+02,\n",
       "       9.53890033e+02, 9.52513411e+02, 9.51272655e+02, 9.50839942e+02,\n",
       "       9.50256017e+02, 9.49740181e+02, 9.48522993e+02, 9.46887129e+02,\n",
       "       9.45183508e+02, 9.44265213e+02, 9.43786101e+02, 9.43082240e+02,\n",
       "       9.41238484e+02, 9.39279767e+02, 9.35887781e+02, 9.34353130e+02,\n",
       "       9.31469142e+02, 9.22972726e+02, 9.21660111e+02, 9.15630649e+02,\n",
       "       9.14843877e+02, 9.13084792e+02, 9.06561846e+02, 9.00437482e+02,\n",
       "       8.94553607e+02, 8.92161744e+02, 8.88564943e+02, 8.81321615e+02,\n",
       "       8.76570733e+02, 8.75299723e+02, 8.72999364e+02, 8.54089193e+02,\n",
       "       8.49514223e+02, 8.44892007e+02, 8.42631974e+02, 8.29978457e+02,\n",
       "       8.20763259e+02, 8.13320043e+02, 8.00565317e+02, 7.94643868e+02,\n",
       "       7.84170897e+02, 7.63857394e+02, 7.58365884e+02, 7.38900098e+02,\n",
       "       7.35866781e+02, 7.31161659e+02, 7.25580614e+02, 7.15190665e+02,\n",
       "       7.06953330e+02, 6.92093418e+02, 6.83511168e+02, 6.79925317e+02,\n",
       "       6.66823984e+02, 6.56725950e+02, 6.56363192e+02, 6.48472442e+02,\n",
       "       6.32866742e+02, 6.27824160e+02, 6.16624317e+02, 6.07773282e+02,\n",
       "       6.03462871e+02, 5.84989709e+02, 5.81076454e+02, 5.74979801e+02,\n",
       "       5.61913499e+02, 5.54117463e+02, 5.37348601e+02, 5.31758838e+02,\n",
       "       5.13672275e+02, 5.02417070e+02, 4.88503786e+02, 4.78945594e+02,\n",
       "       4.74018718e+02, 4.62796533e+02, 4.58154359e+02, 4.52044899e+02,\n",
       "       4.43083941e+02, 4.37223295e+02, 4.28028602e+02, 4.18493059e+02,\n",
       "       4.08886847e+02, 3.99676780e+02, 3.96318775e+02, 3.86557194e+02,\n",
       "       3.82445397e+02, 3.69843263e+02, 3.66776402e+02, 3.61117529e+02,\n",
       "       3.58164418e+02, 3.53179923e+02, 3.49722240e+02, 3.46247268e+02,\n",
       "       3.27296775e+02, 3.20001788e+02, 3.19187255e+02, 3.13125118e+02,\n",
       "       2.97338527e+02, 2.92787232e+02, 2.83276534e+02, 2.75611210e+02,\n",
       "       2.66572140e+02, 2.61746195e+02, 2.60248368e+02, 2.52141687e+02,\n",
       "       2.49939685e+02, 2.40232250e+02, 2.38072810e+02, 2.35235757e+02,\n",
       "       2.26314663e+02, 1.85371543e+02, 1.83593682e+02, 1.75476315e+02,\n",
       "       1.65680931e+02, 1.50398209e+02, 1.46655876e+02, 1.25752344e+02,\n",
       "       6.78251733e+01, 3.77857680e+01, 2.49865066e+00, 3.26785401e-12,\n",
       "       2.58020606e-12, 2.23745239e-12, 2.06962010e-12, 1.95406818e-12,\n",
       "       1.84273966e-12, 1.83117370e-12, 1.65185043e-12, 1.58616193e-12,\n",
       "       1.48876488e-12, 1.37240781e-12, 1.27166376e-12, 1.22053538e-12,\n",
       "       1.12960298e-12, 1.12838489e-12, 1.08993965e-12, 1.05874883e-12,\n",
       "       1.01654827e-12, 9.85103978e-13, 9.73738000e-13, 8.85065559e-13,\n",
       "       8.73250647e-13, 8.54173703e-13, 8.51430335e-13, 8.25341344e-13,\n",
       "       8.18154840e-13, 7.53598007e-13, 7.39954145e-13, 7.07166163e-13,\n",
       "       7.06058625e-13, 7.03527766e-13, 6.57456833e-13, 6.53004351e-13,\n",
       "       6.10102996e-13, 5.58645563e-13, 5.10277245e-13, 4.81300454e-13,\n",
       "       4.55598566e-13, 4.40488642e-13, 4.38166571e-13, 4.36989712e-13,\n",
       "       4.11338981e-13, 3.97110576e-13, 3.97110576e-13, 3.97110576e-13,\n",
       "       3.97110576e-13, 3.97110576e-13, 3.97110576e-13, 3.58537985e-13,\n",
       "       3.19442153e-13, 2.57311800e-13, 2.42321713e-13, 2.41494270e-13,\n",
       "       2.23348039e-13, 1.80023113e-13, 1.08586678e-13, 9.35677799e-14,\n",
       "       1.24028952e-14])"
      ]
     },
     "execution_count": 162,
     "metadata": {},
     "output_type": "execute_result"
    }
   ],
   "source": [
    "pca.singular_values_"
   ]
  },
  {
   "cell_type": "code",
   "execution_count": 163,
   "metadata": {},
   "outputs": [
    {
     "data": {
      "image/png": "[encoded data removed]",
      "text/plain": [
       "<Figure size 432x288 with 1 Axes>"
      ]
     },
     "metadata": {},
     "output_type": "display_data"
    }
   ],
   "source": [
    "# Investigate the variance accounted for by each principal component.\n",
    "variance = pca.explained_variance_\n",
    "plt.plot(range(len(variance)), variance, color='b')\n",
    "plt.title(\"variance\")\n",
    "plt.grid(True)"
   ]
  },
  {
   "cell_type": "code",
   "execution_count": 164,
   "metadata": {},
   "outputs": [
    {
     "data": {
      "text/plain": [
       "array([30.39298468, 14.38902753, 11.35822358,  7.15704282,  6.24876576,\n",
       "        5.21021254,  4.99292004,  4.48563763,  4.38112688,  4.05548142,\n",
       "        3.94398795,  3.58202395,  3.45794008,  2.95865801,  2.61900504,\n",
       "        2.54220195,  2.47012019,  2.40959622,  2.32309846,  2.27906831,\n",
       "        2.21285316,  2.1483317 ,  2.11205014,  2.08890111,  2.06714919,\n",
       "        2.0221182 ,  1.89717919,  1.88239302,  1.83995704,  1.6781935 ,\n",
       "        1.64707874,  1.587805  ,  1.55298265,  1.51641809,  1.48317526,\n",
       "        1.43919438,  1.40603929,  1.36779803,  1.35583623,  1.31752136,\n",
       "        1.30005702,  1.28386727,  1.26724537,  1.25275698,  1.2216614 ,\n",
       "        1.2150632 ,  1.20975967,  1.20815427,  1.18898795,  1.17638476])"
      ]
     },
     "execution_count": 164,
     "metadata": {},
     "output_type": "execute_result"
    }
   ],
   "source": [
    "pca.explained_variance_[:50]"
   ]
  },
  {
   "cell_type": "code",
   "execution_count": 165,
   "metadata": {},
   "outputs": [
    {
     "name": "stdout",
     "output_type": "stream",
     "text": [
      "253\n",
      "0.8689054076082624\n"
     ]
    }
   ],
   "source": [
    "print(len(pca.explained_variance_ratio_))\n",
    "print(sum(pca.explained_variance_ratio_[:100]))"
   ]
  },
  {
   "cell_type": "markdown",
   "metadata": {},
   "source": [
    "The first 100 components take up 87% of all the variances. Therefore, we choose 100 components to reapply PCA"
   ]
  },
  {
   "cell_type": "code",
   "execution_count": 155,
   "metadata": {},
   "outputs": [
    {
     "data": {
      "text/plain": [
       "PCA(copy=True, iterated_power='auto', n_components=100, random_state=None,\n",
       "  svd_solver='auto', tol=0.0, whiten=False)"
      ]
     },
     "execution_count": 155,
     "metadata": {},
     "output_type": "execute_result"
    }
   ],
   "source": [
    "# Re-apply PCA to the data while selecting for number of components to retain.\n",
    "\n",
    "pca2 = PCA(n_components=100)\n",
    "pca2.fit(transformed_matrix)"
   ]
  },
  {
   "cell_type": "code",
   "execution_count": 156,
   "metadata": {},
   "outputs": [
    {
     "data": {
      "image/png": "[encoded data removed]",
      "text/plain": [
       "<Figure size 432x288 with 1 Axes>"
      ]
     },
     "metadata": {},
     "output_type": "display_data"
    }
   ],
   "source": [
    "variance = pca2.explained_variance_\n",
    "plt.plot(range(len(variance)), variance, color='b')\n",
    "plt.title(\"variance\")\n",
    "plt.grid(True)"
   ]
  },
  {
   "cell_type": "code",
   "execution_count": null,
   "metadata": {},
   "outputs": [],
   "source": [
    "pca2.components_.shape"
   ]
  },
  {
   "cell_type": "markdown",
   "metadata": {},
   "source": [
    "### Discussion 2.2: Perform Dimensionality Reduction\n",
    "\n",
    "(Double-click this cell and replace this text with your own text, reporting your findings and decisions regarding dimensionality reduction. How many principal components / transformed features are you retaining for the next step of the analysis?)"
   ]
  },
  {
   "cell_type": "markdown",
   "metadata": {},
   "source": [
    "### Step 2.3: Interpret Principal Components\n",
    "\n",
    "Now that we have our transformed principal components, \n",
    "\n",
    "> it's a nice idea to check out the weight of each variable on the first few components to see if they can be interpreted in some fashion.\n",
    "\n",
    "**IMPORTANT TO UNDERSTAND**: \n",
    "\n",
    "> * Each principal component is a unit vector that points in the direction of highest variance (after accounting for the variance captured by earlier principal components). \n",
    "> * The further a weight is from zero, the more the principal component is in the direction of the corresponding feature. \n",
    "> * If two features have large weights of the same sign (both positive or both negative), then increases in one tend expect to be associated with increases in the other. To contrast, features with different signs can be expected to show a negative correlation: increases in one variable should result in a decrease in the other.\n",
    "\n",
    "- To investigate the features, you should map each weight to their corresponding feature name, then sort the features according to weight. The most interesting features for each principal component, then, will be those at the beginning and end of the sorted list. Use the data dictionary document to help you understand these most prominent features, their relationships, and what a positive or negative value on the principal component might indicate.\n",
    "- You should investigate and interpret feature associations from the first three principal components in this substep. To help facilitate this, you should write a function that you can call at any time to print the sorted list of feature weights, for the *i*-th principal component. This might come in handy in the next step of the project, when you interpret the tendencies of the discovered clusters."
   ]
  },
  {
   "cell_type": "code",
   "execution_count": null,
   "metadata": {},
   "outputs": [],
   "source": [
    "# Map weights for the first principal component to corresponding feature names\n",
    "# and then print the linked values, sorted by weight.\n",
    "# HINT: Try defining a function here or in a new cell that you can reuse in the\n",
    "# other cells.\n",
    "\n"
   ]
  },
  {
   "cell_type": "code",
   "execution_count": null,
   "metadata": {},
   "outputs": [],
   "source": [
    "# Map weights for the second principal component to corresponding feature names\n",
    "# and then print the linked values, sorted by weight.\n",
    "\n"
   ]
  },
  {
   "cell_type": "code",
   "execution_count": null,
   "metadata": {},
   "outputs": [],
   "source": [
    "# Map weights for the third principal component to corresponding feature names\n",
    "# and then print the linked values, sorted by weight.\n",
    "\n"
   ]
  },
  {
   "cell_type": "markdown",
   "metadata": {},
   "source": [
    "### Discussion 2.3: Interpret Principal Components\n",
    "\n",
    "(Double-click this cell and replace this text with your own text, reporting your observations from detailed investigation of the first few principal components generated. Can we interpret positive and negative values from them in a meaningful way?)"
   ]
  },
  {
   "cell_type": "markdown",
   "metadata": {},
   "source": [
    "## Step 3: Clustering\n",
    "\n",
    "### Step 3.1: Apply Clustering to General Population\n",
    "\n",
    "You've assessed and cleaned the demographics data, then scaled and transformed them. Now, it's time to see how the data clusters in the principal components space. In this substep, you will apply k-means clustering to the dataset and use the average within-cluster distances from each point to their assigned cluster's centroid to decide on a number of clusters to keep.\n",
    "\n",
    "- Use sklearn's [KMeans](http://scikit-learn.org/stable/modules/generated/sklearn.cluster.KMeans.html#sklearn.cluster.KMeans) class to perform k-means clustering on the PCA-transformed data.\n",
    "- Then, compute the average difference from each point to its assigned cluster's center. **Hint**: The KMeans object's `.score()` method might be useful here, but note that in sklearn, scores tend to be defined so that larger is better. Try applying it to a small, toy dataset, or use an internet search to help your understanding.\n",
    "- Perform the above two steps for a number of different cluster counts. You can then see how the average distance decreases with an increasing number of clusters. However, each additional cluster provides a smaller net benefit. Use this fact to select a final number of clusters in which to group the data. **Warning**: because of the large size of the dataset, it can take a long time for the algorithm to resolve. The more clusters to fit, the longer the algorithm will take. You should test for cluster counts through at least 10 clusters to get the full picture, but you shouldn't need to test for a number of clusters above about 30.\n",
    "- Once you've selected a final number of clusters to use, re-fit a KMeans instance to perform the clustering operation. Make sure that you also obtain the cluster assignments for the general demographics data, since you'll be using them in the final Step 3.3."
   ]
  },
  {
   "cell_type": "code",
   "execution_count": null,
   "metadata": {},
   "outputs": [],
   "source": [
    "# Over a number of different cluster counts...\n",
    "\n",
    "\n",
    "    # run k-means clustering on the data and...\n",
    "    \n",
    "    \n",
    "    # compute the average within-cluster distances.\n",
    "    \n",
    "    "
   ]
  },
  {
   "cell_type": "code",
   "execution_count": null,
   "metadata": {},
   "outputs": [],
   "source": [
    "# Investigate the change in within-cluster distance across number of clusters.\n",
    "# HINT: Use matplotlib's plot function to visualize this relationship.\n",
    "\n"
   ]
  },
  {
   "cell_type": "code",
   "execution_count": null,
   "metadata": {},
   "outputs": [],
   "source": [
    "# Re-fit the k-means model with the selected number of clusters and obtain\n",
    "# cluster predictions for the general population demographics data.\n",
    "\n"
   ]
  },
  {
   "cell_type": "markdown",
   "metadata": {},
   "source": [
    "### Discussion 3.1: Apply Clustering to General Population\n",
    "\n",
    "(Double-click this cell and replace this text with your own text, reporting your findings and decisions regarding clustering. Into how many clusters have you decided to segment the population?)"
   ]
  },
  {
   "cell_type": "markdown",
   "metadata": {},
   "source": [
    "### Step 3.2: Apply All Steps to the Customer Data\n",
    "\n",
    "Now that you have clusters and cluster centers for the general population, it's time to see how the customer data maps on to those clusters. Take care to not confuse this for re-fitting all of the models to the customer data. Instead, you're going to use the fits from the general population to clean, transform, and cluster the customer data. In the last step of the project, you will interpret how the general population fits apply to the customer data.\n",
    "\n",
    "- Don't forget when loading in the customers data, that it is semicolon (`;`) delimited.\n",
    "- Apply the same feature wrangling, selection, and engineering steps to the customer demographics using the `clean_data()` function you created earlier. (You can assume that the customer demographics data has similar meaning behind missing data patterns as the general demographics data.)\n",
    "- Use the sklearn objects from the general demographics data, and apply their transformations to the customers data. That is, you should not be using a `.fit()` or `.fit_transform()` method to re-fit the old objects, nor should you be creating new sklearn objects! Carry the data through the feature scaling, PCA, and clustering steps, obtaining cluster assignments for all of the data in the customer demographics data."
   ]
  },
  {
   "cell_type": "code",
   "execution_count": null,
   "metadata": {},
   "outputs": [],
   "source": [
    "# Load in the customer demographics data.\n",
    "customers = "
   ]
  },
  {
   "cell_type": "code",
   "execution_count": null,
   "metadata": {},
   "outputs": [],
   "source": [
    "# Apply preprocessing, feature transformation, and clustering from the general\n",
    "# demographics onto the customer data, obtaining cluster predictions for the\n",
    "# customer demographics data.\n",
    "\n"
   ]
  },
  {
   "cell_type": "markdown",
   "metadata": {},
   "source": [
    "### Step 3.3: Compare Customer Data to Demographics Data\n",
    "\n",
    "At this point, you have clustered data based on demographics of the general population of Germany, and seen how the customer data for a mail-order sales company maps onto those demographic clusters. In this final substep, you will compare the two cluster distributions to see where the strongest customer base for the company is.\n",
    "\n",
    "Consider the proportion of persons in each cluster for the general population, and the proportions for the customers. If we think the company's customer base to be universal, then the cluster assignment proportions should be fairly similar between the two. If there are only particular segments of the population that are interested in the company's products, then we should see a mismatch from one to the other. If there is a higher proportion of persons in a cluster for the customer data compared to the general population (e.g. 5% of persons are assigned to a cluster for the general population, but 15% of the customer data is closest to that cluster's centroid) then that suggests the people in that cluster to be a target audience for the company. On the other hand, the proportion of the data in a cluster being larger in the general population than the customer data (e.g. only 2% of customers closest to a population centroid that captures 6% of the data) suggests that group of persons to be outside of the target demographics.\n",
    "\n",
    "Take a look at the following points in this step:\n",
    "\n",
    "- Compute the proportion of data points in each cluster for the general population and the customer data. Visualizations will be useful here: both for the individual dataset proportions, but also to visualize the ratios in cluster representation between groups. Seaborn's [`countplot()`](https://seaborn.pydata.org/generated/seaborn.countplot.html) or [`barplot()`](https://seaborn.pydata.org/generated/seaborn.barplot.html) function could be handy.\n",
    "  - Recall the analysis you performed in step 1.1.3 of the project, where you separated out certain data points from the dataset if they had more than a specified threshold of missing values. If you found that this group was qualitatively different from the main bulk of the data, you should treat this as an additional data cluster in this analysis. Make sure that you account for the number of data points in this subset, for both the general population and customer datasets, when making your computations!\n",
    "- Which cluster or clusters are overrepresented in the customer dataset compared to the general population? Select at least one such cluster and infer what kind of people might be represented by that cluster. Use the principal component interpretations from step 2.3 or look at additional components to help you make this inference. Alternatively, you can use the `.inverse_transform()` method of the PCA and StandardScaler objects to transform centroids back to the original data space and interpret the retrieved values directly.\n",
    "- Perform a similar investigation for the underrepresented clusters. Which cluster or clusters are underrepresented in the customer dataset compared to the general population, and what kinds of people are typified by these clusters?"
   ]
  },
  {
   "cell_type": "code",
   "execution_count": null,
   "metadata": {},
   "outputs": [],
   "source": [
    "# Compare the proportion of data in each cluster for the customer data to the\n",
    "# proportion of data in each cluster for the general population.\n",
    "\n"
   ]
  },
  {
   "cell_type": "code",
   "execution_count": null,
   "metadata": {},
   "outputs": [],
   "source": [
    "# What kinds of people are part of a cluster that is overrepresented in the\n",
    "# customer data compared to the general population?\n",
    "\n"
   ]
  },
  {
   "cell_type": "code",
   "execution_count": null,
   "metadata": {},
   "outputs": [],
   "source": [
    "# What kinds of people are part of a cluster that is underrepresented in the\n",
    "# customer data compared to the general population?\n",
    "\n"
   ]
  },
  {
   "cell_type": "markdown",
   "metadata": {},
   "source": [
    "### Discussion 3.3: Compare Customer Data to Demographics Data\n",
    "\n",
    "(Double-click this cell and replace this text with your own text, reporting findings and conclusions from the clustering analysis. Can we describe segments of the population that are relatively popular with the mail-order company, or relatively unpopular with the company?)"
   ]
  },
  {
   "cell_type": "markdown",
   "metadata": {},
   "source": [
    "> Congratulations on making it this far in the project! Before you finish, make sure to check through the entire notebook from top to bottom to make sure that your analysis follows a logical flow and all of your findings are documented in **Discussion** cells. Once you've checked over all of your work, you should export the notebook as an HTML document to submit for evaluation. You can do this from the menu, navigating to **File -> Download as -> HTML (.html)**. You will submit both that document and this notebook for your project submission."
   ]
  },
  {
   "cell_type": "code",
   "execution_count": null,
   "metadata": {},
   "outputs": [],
   "source": []
  }
 ],
 "metadata": {
  "kernelspec": {
   "display_name": "opencv",
   "language": "python",
   "name": "opencv"
  },
  "language_info": {
   "codemirror_mode": {
    "name": "ipython",
    "version": 3
   },
   "file_extension": ".py",
   "mimetype": "text/x-python",
   "name": "python",
   "nbconvert_exporter": "python",
   "pygments_lexer": "ipython3",
   "version": "3.6.5"
  }
 },
 "nbformat": 4,
 "nbformat_minor": 2
}
